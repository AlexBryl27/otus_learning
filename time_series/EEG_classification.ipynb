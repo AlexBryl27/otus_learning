{
 "cells": [
  {
   "cell_type": "markdown",
   "id": "0d7502f3-5d09-4be8-9096-9e359ab5fcaa",
   "metadata": {},
   "source": [
    "# Классификация сигналов EEG\n",
    "\n",
    "Данные взяты отсюда https://www.kaggle.com/datasets/harunshimanto/epileptic-seizure-recognition?resource=download\n",
    "\n",
    "Необходимо классифицировать сигналы EEG по наличию приступа эпилепсии (y == 1)"
   ]
  },
  {
   "cell_type": "code",
   "execution_count": 15,
   "id": "bea8de83-1b02-4e29-b34f-43fbbfd95aba",
   "metadata": {},
   "outputs": [],
   "source": [
    "import pandas as pd\n",
    "from sklearn.model_selection import train_test_split\n",
    "from sklearn.ensemble import RandomForestClassifier\n",
    "from sklearn.metrics import accuracy_score, f1_score, confusion_matrix\n",
    "from sklearn.decomposition import PCA\n",
    "from sklearn.feature_selection import VarianceThreshold\n",
    "from scipy.fftpack import fft\n",
    "from scipy.signal import find_peaks\n",
    "import pywt\n",
    "import numpy as np\n",
    "import matplotlib.pyplot as plt\n",
    "import seaborn as sns\n",
    "\n",
    "from skimage.transform import resize\n",
    "import torch\n",
    "import torch.nn as nn\n",
    "import torch.nn.functional as F\n",
    "import torch.optim as optim\n",
    "from torch.utils.data import TensorDataset, DataLoader\n",
    "\n",
    "import tsfel\n",
    "\n",
    "from tqdm.auto import tqdm"
   ]
  },
  {
   "cell_type": "markdown",
   "id": "f689a5bb-07ff-4914-b05d-eed9814ceae0",
   "metadata": {},
   "source": [
    "## 1. EDA"
   ]
  },
  {
   "cell_type": "code",
   "execution_count": 3,
   "id": "08da2ea3-cdb4-4d55-9a24-c806873a7df2",
   "metadata": {},
   "outputs": [
    {
     "data": {
      "text/html": [
       "<div>\n",
       "<style scoped>\n",
       "    .dataframe tbody tr th:only-of-type {\n",
       "        vertical-align: middle;\n",
       "    }\n",
       "\n",
       "    .dataframe tbody tr th {\n",
       "        vertical-align: top;\n",
       "    }\n",
       "\n",
       "    .dataframe thead th {\n",
       "        text-align: right;\n",
       "    }\n",
       "</style>\n",
       "<table border=\"1\" class=\"dataframe\">\n",
       "  <thead>\n",
       "    <tr style=\"text-align: right;\">\n",
       "      <th></th>\n",
       "      <th>Unnamed</th>\n",
       "      <th>X1</th>\n",
       "      <th>X2</th>\n",
       "      <th>X3</th>\n",
       "      <th>X4</th>\n",
       "      <th>X5</th>\n",
       "      <th>X6</th>\n",
       "      <th>X7</th>\n",
       "      <th>X8</th>\n",
       "      <th>X9</th>\n",
       "      <th>...</th>\n",
       "      <th>X170</th>\n",
       "      <th>X171</th>\n",
       "      <th>X172</th>\n",
       "      <th>X173</th>\n",
       "      <th>X174</th>\n",
       "      <th>X175</th>\n",
       "      <th>X176</th>\n",
       "      <th>X177</th>\n",
       "      <th>X178</th>\n",
       "      <th>y</th>\n",
       "    </tr>\n",
       "  </thead>\n",
       "  <tbody>\n",
       "    <tr>\n",
       "      <th>0</th>\n",
       "      <td>X21.V1.791</td>\n",
       "      <td>135</td>\n",
       "      <td>190</td>\n",
       "      <td>229</td>\n",
       "      <td>223</td>\n",
       "      <td>192</td>\n",
       "      <td>125</td>\n",
       "      <td>55</td>\n",
       "      <td>-9</td>\n",
       "      <td>-33</td>\n",
       "      <td>...</td>\n",
       "      <td>-17</td>\n",
       "      <td>-15</td>\n",
       "      <td>-31</td>\n",
       "      <td>-77</td>\n",
       "      <td>-103</td>\n",
       "      <td>-127</td>\n",
       "      <td>-116</td>\n",
       "      <td>-83</td>\n",
       "      <td>-51</td>\n",
       "      <td>4</td>\n",
       "    </tr>\n",
       "    <tr>\n",
       "      <th>1</th>\n",
       "      <td>X15.V1.924</td>\n",
       "      <td>386</td>\n",
       "      <td>382</td>\n",
       "      <td>356</td>\n",
       "      <td>331</td>\n",
       "      <td>320</td>\n",
       "      <td>315</td>\n",
       "      <td>307</td>\n",
       "      <td>272</td>\n",
       "      <td>244</td>\n",
       "      <td>...</td>\n",
       "      <td>164</td>\n",
       "      <td>150</td>\n",
       "      <td>146</td>\n",
       "      <td>152</td>\n",
       "      <td>157</td>\n",
       "      <td>156</td>\n",
       "      <td>154</td>\n",
       "      <td>143</td>\n",
       "      <td>129</td>\n",
       "      <td>1</td>\n",
       "    </tr>\n",
       "    <tr>\n",
       "      <th>2</th>\n",
       "      <td>X8.V1.1</td>\n",
       "      <td>-32</td>\n",
       "      <td>-39</td>\n",
       "      <td>-47</td>\n",
       "      <td>-37</td>\n",
       "      <td>-32</td>\n",
       "      <td>-36</td>\n",
       "      <td>-57</td>\n",
       "      <td>-73</td>\n",
       "      <td>-85</td>\n",
       "      <td>...</td>\n",
       "      <td>57</td>\n",
       "      <td>64</td>\n",
       "      <td>48</td>\n",
       "      <td>19</td>\n",
       "      <td>-12</td>\n",
       "      <td>-30</td>\n",
       "      <td>-35</td>\n",
       "      <td>-35</td>\n",
       "      <td>-36</td>\n",
       "      <td>5</td>\n",
       "    </tr>\n",
       "    <tr>\n",
       "      <th>3</th>\n",
       "      <td>X16.V1.60</td>\n",
       "      <td>-105</td>\n",
       "      <td>-101</td>\n",
       "      <td>-96</td>\n",
       "      <td>-92</td>\n",
       "      <td>-89</td>\n",
       "      <td>-95</td>\n",
       "      <td>-102</td>\n",
       "      <td>-100</td>\n",
       "      <td>-87</td>\n",
       "      <td>...</td>\n",
       "      <td>-82</td>\n",
       "      <td>-81</td>\n",
       "      <td>-80</td>\n",
       "      <td>-77</td>\n",
       "      <td>-85</td>\n",
       "      <td>-77</td>\n",
       "      <td>-72</td>\n",
       "      <td>-69</td>\n",
       "      <td>-65</td>\n",
       "      <td>5</td>\n",
       "    </tr>\n",
       "    <tr>\n",
       "      <th>4</th>\n",
       "      <td>X20.V1.54</td>\n",
       "      <td>-9</td>\n",
       "      <td>-65</td>\n",
       "      <td>-98</td>\n",
       "      <td>-102</td>\n",
       "      <td>-78</td>\n",
       "      <td>-48</td>\n",
       "      <td>-16</td>\n",
       "      <td>0</td>\n",
       "      <td>-21</td>\n",
       "      <td>...</td>\n",
       "      <td>4</td>\n",
       "      <td>2</td>\n",
       "      <td>-12</td>\n",
       "      <td>-32</td>\n",
       "      <td>-41</td>\n",
       "      <td>-65</td>\n",
       "      <td>-83</td>\n",
       "      <td>-89</td>\n",
       "      <td>-73</td>\n",
       "      <td>5</td>\n",
       "    </tr>\n",
       "    <tr>\n",
       "      <th>...</th>\n",
       "      <td>...</td>\n",
       "      <td>...</td>\n",
       "      <td>...</td>\n",
       "      <td>...</td>\n",
       "      <td>...</td>\n",
       "      <td>...</td>\n",
       "      <td>...</td>\n",
       "      <td>...</td>\n",
       "      <td>...</td>\n",
       "      <td>...</td>\n",
       "      <td>...</td>\n",
       "      <td>...</td>\n",
       "      <td>...</td>\n",
       "      <td>...</td>\n",
       "      <td>...</td>\n",
       "      <td>...</td>\n",
       "      <td>...</td>\n",
       "      <td>...</td>\n",
       "      <td>...</td>\n",
       "      <td>...</td>\n",
       "      <td>...</td>\n",
       "    </tr>\n",
       "    <tr>\n",
       "      <th>11495</th>\n",
       "      <td>X22.V1.114</td>\n",
       "      <td>-22</td>\n",
       "      <td>-22</td>\n",
       "      <td>-23</td>\n",
       "      <td>-26</td>\n",
       "      <td>-36</td>\n",
       "      <td>-42</td>\n",
       "      <td>-45</td>\n",
       "      <td>-42</td>\n",
       "      <td>-45</td>\n",
       "      <td>...</td>\n",
       "      <td>15</td>\n",
       "      <td>16</td>\n",
       "      <td>12</td>\n",
       "      <td>5</td>\n",
       "      <td>-1</td>\n",
       "      <td>-18</td>\n",
       "      <td>-37</td>\n",
       "      <td>-47</td>\n",
       "      <td>-48</td>\n",
       "      <td>2</td>\n",
       "    </tr>\n",
       "    <tr>\n",
       "      <th>11496</th>\n",
       "      <td>X19.V1.354</td>\n",
       "      <td>-47</td>\n",
       "      <td>-11</td>\n",
       "      <td>28</td>\n",
       "      <td>77</td>\n",
       "      <td>141</td>\n",
       "      <td>211</td>\n",
       "      <td>246</td>\n",
       "      <td>240</td>\n",
       "      <td>193</td>\n",
       "      <td>...</td>\n",
       "      <td>-65</td>\n",
       "      <td>-33</td>\n",
       "      <td>-7</td>\n",
       "      <td>14</td>\n",
       "      <td>27</td>\n",
       "      <td>48</td>\n",
       "      <td>77</td>\n",
       "      <td>117</td>\n",
       "      <td>170</td>\n",
       "      <td>1</td>\n",
       "    </tr>\n",
       "    <tr>\n",
       "      <th>11497</th>\n",
       "      <td>X8.V1.28</td>\n",
       "      <td>14</td>\n",
       "      <td>6</td>\n",
       "      <td>-13</td>\n",
       "      <td>-16</td>\n",
       "      <td>10</td>\n",
       "      <td>26</td>\n",
       "      <td>27</td>\n",
       "      <td>-9</td>\n",
       "      <td>4</td>\n",
       "      <td>...</td>\n",
       "      <td>-65</td>\n",
       "      <td>-48</td>\n",
       "      <td>-61</td>\n",
       "      <td>-62</td>\n",
       "      <td>-67</td>\n",
       "      <td>-30</td>\n",
       "      <td>-2</td>\n",
       "      <td>-1</td>\n",
       "      <td>-8</td>\n",
       "      <td>5</td>\n",
       "    </tr>\n",
       "    <tr>\n",
       "      <th>11498</th>\n",
       "      <td>X10.V1.932</td>\n",
       "      <td>-40</td>\n",
       "      <td>-25</td>\n",
       "      <td>-9</td>\n",
       "      <td>-12</td>\n",
       "      <td>-2</td>\n",
       "      <td>12</td>\n",
       "      <td>7</td>\n",
       "      <td>19</td>\n",
       "      <td>22</td>\n",
       "      <td>...</td>\n",
       "      <td>121</td>\n",
       "      <td>135</td>\n",
       "      <td>148</td>\n",
       "      <td>143</td>\n",
       "      <td>116</td>\n",
       "      <td>86</td>\n",
       "      <td>68</td>\n",
       "      <td>59</td>\n",
       "      <td>55</td>\n",
       "      <td>3</td>\n",
       "    </tr>\n",
       "    <tr>\n",
       "      <th>11499</th>\n",
       "      <td>X16.V1.210</td>\n",
       "      <td>29</td>\n",
       "      <td>41</td>\n",
       "      <td>57</td>\n",
       "      <td>72</td>\n",
       "      <td>74</td>\n",
       "      <td>62</td>\n",
       "      <td>54</td>\n",
       "      <td>43</td>\n",
       "      <td>31</td>\n",
       "      <td>...</td>\n",
       "      <td>-59</td>\n",
       "      <td>-25</td>\n",
       "      <td>-4</td>\n",
       "      <td>2</td>\n",
       "      <td>5</td>\n",
       "      <td>4</td>\n",
       "      <td>-2</td>\n",
       "      <td>2</td>\n",
       "      <td>20</td>\n",
       "      <td>4</td>\n",
       "    </tr>\n",
       "  </tbody>\n",
       "</table>\n",
       "<p>11500 rows × 180 columns</p>\n",
       "</div>"
      ],
      "text/plain": [
       "          Unnamed   X1   X2   X3   X4   X5   X6   X7   X8   X9  ...  X170  \\\n",
       "0      X21.V1.791  135  190  229  223  192  125   55   -9  -33  ...   -17   \n",
       "1      X15.V1.924  386  382  356  331  320  315  307  272  244  ...   164   \n",
       "2         X8.V1.1  -32  -39  -47  -37  -32  -36  -57  -73  -85  ...    57   \n",
       "3       X16.V1.60 -105 -101  -96  -92  -89  -95 -102 -100  -87  ...   -82   \n",
       "4       X20.V1.54   -9  -65  -98 -102  -78  -48  -16    0  -21  ...     4   \n",
       "...           ...  ...  ...  ...  ...  ...  ...  ...  ...  ...  ...   ...   \n",
       "11495  X22.V1.114  -22  -22  -23  -26  -36  -42  -45  -42  -45  ...    15   \n",
       "11496  X19.V1.354  -47  -11   28   77  141  211  246  240  193  ...   -65   \n",
       "11497    X8.V1.28   14    6  -13  -16   10   26   27   -9    4  ...   -65   \n",
       "11498  X10.V1.932  -40  -25   -9  -12   -2   12    7   19   22  ...   121   \n",
       "11499  X16.V1.210   29   41   57   72   74   62   54   43   31  ...   -59   \n",
       "\n",
       "       X171  X172  X173  X174  X175  X176  X177  X178  y  \n",
       "0       -15   -31   -77  -103  -127  -116   -83   -51  4  \n",
       "1       150   146   152   157   156   154   143   129  1  \n",
       "2        64    48    19   -12   -30   -35   -35   -36  5  \n",
       "3       -81   -80   -77   -85   -77   -72   -69   -65  5  \n",
       "4         2   -12   -32   -41   -65   -83   -89   -73  5  \n",
       "...     ...   ...   ...   ...   ...   ...   ...   ... ..  \n",
       "11495    16    12     5    -1   -18   -37   -47   -48  2  \n",
       "11496   -33    -7    14    27    48    77   117   170  1  \n",
       "11497   -48   -61   -62   -67   -30    -2    -1    -8  5  \n",
       "11498   135   148   143   116    86    68    59    55  3  \n",
       "11499   -25    -4     2     5     4    -2     2    20  4  \n",
       "\n",
       "[11500 rows x 180 columns]"
      ]
     },
     "execution_count": 3,
     "metadata": {},
     "output_type": "execute_result"
    }
   ],
   "source": [
    "df = pd.read_csv('Epileptic Seizure Recognition.csv')\n",
    "df"
   ]
  },
  {
   "cell_type": "code",
   "execution_count": 4,
   "id": "431edee4-e163-447c-bc07-dc241d1b1f93",
   "metadata": {},
   "outputs": [
    {
     "data": {
      "text/plain": [
       "0"
      ]
     },
     "execution_count": 4,
     "metadata": {},
     "output_type": "execute_result"
    }
   ],
   "source": [
    "df.isna().sum().sum()"
   ]
  },
  {
   "cell_type": "markdown",
   "id": "76b4ea06-8bae-4b9b-95d5-6c1c560cd94e",
   "metadata": {},
   "source": [
    "Взглянем на случайный сигнал, чтобы убедиться, что это time-series"
   ]
  },
  {
   "cell_type": "code",
   "execution_count": 5,
   "id": "38ea8737-565c-4afd-9aea-7ac3434cc27d",
   "metadata": {},
   "outputs": [
    {
     "data": {
      "text/plain": [
       "<AxesSubplot:>"
      ]
     },
     "execution_count": 5,
     "metadata": {},
     "output_type": "execute_result"
    },
    {
     "data": {
      "image/png": "[encoded data removed]",
      "text/plain": [
       "<Figure size 432x288 with 1 Axes>"
      ]
     },
     "metadata": {
      "needs_background": "light"
     },
     "output_type": "display_data"
    }
   ],
   "source": [
    "df.iloc[0, 1:-1].plot()"
   ]
  },
  {
   "cell_type": "markdown",
   "id": "d0824e93-dbd8-42b9-a9f3-238e94846827",
   "metadata": {},
   "source": [
    "И случайный сигнал при судорогах:"
   ]
  },
  {
   "cell_type": "code",
   "execution_count": 6,
   "id": "2369511d-20b4-4882-85e5-8f1fb86c8492",
   "metadata": {},
   "outputs": [
    {
     "data": {
      "text/plain": [
       "<AxesSubplot:>"
      ]
     },
     "execution_count": 6,
     "metadata": {},
     "output_type": "execute_result"
    },
    {
     "data": {
      "image/png": "[encoded data removed]",
      "text/plain": [
       "<Figure size 432x288 with 1 Axes>"
      ]
     },
     "metadata": {
      "needs_background": "light"
     },
     "output_type": "display_data"
    }
   ],
   "source": [
    "df.iloc[1, 1:-1].plot()"
   ]
  },
  {
   "cell_type": "code",
   "execution_count": 7,
   "id": "80f4c70f-dfb9-4443-9831-47eae736a8c6",
   "metadata": {},
   "outputs": [
    {
     "data": {
      "text/plain": [
       "4    2300\n",
       "1    2300\n",
       "5    2300\n",
       "2    2300\n",
       "3    2300\n",
       "Name: y, dtype: int64"
      ]
     },
     "execution_count": 7,
     "metadata": {},
     "output_type": "execute_result"
    }
   ],
   "source": [
    "df.y.value_counts()"
   ]
  },
  {
   "cell_type": "markdown",
   "id": "9808610c-145f-4094-83a2-d048a583f09a",
   "metadata": {},
   "source": [
    "Данные сбалансированы, но нам нужно только 2 класса"
   ]
  },
  {
   "cell_type": "code",
   "execution_count": 8,
   "id": "48e59170-5e1d-4cdc-8f2a-716db831f46a",
   "metadata": {},
   "outputs": [],
   "source": [
    "df['target'] = df.y.apply(lambda x: 0 if x != 1 else 1)"
   ]
  },
  {
   "cell_type": "code",
   "execution_count": 9,
   "id": "bc5712af-7409-4d14-9891-872315d9e43c",
   "metadata": {},
   "outputs": [],
   "source": [
    "train, test = train_test_split(df, test_size=0.2, stratify=df.y, random_state=123)"
   ]
  },
  {
   "cell_type": "code",
   "execution_count": 10,
   "id": "b324e90a-46f5-4732-b0f0-159df211136c",
   "metadata": {},
   "outputs": [],
   "source": [
    "X_train, X_test = train.iloc[:, 1:-2].values, test.iloc[:, 1:-2].values\n",
    "y_train, y_test = train.target.values, test.target.values"
   ]
  },
  {
   "cell_type": "code",
   "execution_count": 11,
   "id": "e3004e9d-d5cb-441e-99bb-f3e5d75298d6",
   "metadata": {},
   "outputs": [
    {
     "data": {
      "text/plain": [
       "(9200, 178)"
      ]
     },
     "execution_count": 11,
     "metadata": {},
     "output_type": "execute_result"
    }
   ],
   "source": [
    "X_train.shape"
   ]
  },
  {
   "cell_type": "markdown",
   "id": "b013bfcc-60e5-45c5-9058-7769ff9a3513",
   "metadata": {},
   "source": [
    "## 2. Baseline"
   ]
  },
  {
   "cell_type": "markdown",
   "id": "9b950475-6591-40ca-ab38-ba5621803409",
   "metadata": {},
   "source": [
    "Для всех алгоритмов будем использовать RandomForest с одинаковыми параметрами"
   ]
  },
  {
   "cell_type": "code",
   "execution_count": 12,
   "id": "0710f3bd-f0fc-4cf2-962d-af75dfe26b47",
   "metadata": {},
   "outputs": [],
   "source": [
    "base = RandomForestClassifier(max_depth=5)\n",
    "base.fit(X_train, y_train)\n",
    "base_preds = base.predict(X_test)"
   ]
  },
  {
   "cell_type": "code",
   "execution_count": 26,
   "id": "a64ee229-2e47-41cc-b1ad-8d8c033b814a",
   "metadata": {},
   "outputs": [],
   "source": [
    "def get_main_metrics(preds, y_test):\n",
    "    print(f\"Accuracy score: {accuracy_score(y_test, preds):.4f}\")\n",
    "    print(f\"F1 score: {f1_score(y_test, preds):.4f}\")\n",
    "    print(\"Confusion matrix:\")\n",
    "    plt.figure(figsize=(5, 3))\n",
    "    sns.heatmap(confusion_matrix(y_test, preds), annot=True, fmt=\"d\", cbar=False)\n",
    "    plt.ylabel('True label', fontsize = 14)\n",
    "    plt.xlabel('Predicted label', fontsize = 14)\n",
    "    plt.show()"
   ]
  },
  {
   "cell_type": "code",
   "execution_count": 14,
   "id": "5935cbcd-d72b-4a75-a963-8828b273ef9d",
   "metadata": {},
   "outputs": [
    {
     "name": "stdout",
     "output_type": "stream",
     "text": [
      "Accuracy score: 0.9504\n",
      "F1 score: 0.8606\n",
      "Confusion matrix:\n"
     ]
    },
    {
     "data": {
      "image/png": "[encoded data removed]",
      "text/plain": [
       "<Figure size 360x216 with 1 Axes>"
      ]
     },
     "metadata": {
      "needs_background": "light"
     },
     "output_type": "display_data"
    }
   ],
   "source": [
    "get_main_metrics(base_preds, y_test)"
   ]
  },
  {
   "cell_type": "markdown",
   "id": "55b4c7f5-4ff3-4b87-8173-2547a79cc4bd",
   "metadata": {},
   "source": [
    "Сильно выраженное смещение в сторону ложноотрицательных предсказаний."
   ]
  },
  {
   "cell_type": "markdown",
   "id": "2faf19a9-6a0d-4708-8116-433ff16da863",
   "metadata": {
    "tags": []
   },
   "source": [
    "## 3. FFT\n",
    "\n",
    "Для начала убедимся, что fft работает так, как и ожидается"
   ]
  },
  {
   "cell_type": "code",
   "execution_count": 30,
   "id": "8256e754-52e7-4986-9770-658dee3617bf",
   "metadata": {},
   "outputs": [],
   "source": [
    "N = X_train.shape[1]\n",
    "t_n = 1\n",
    "T = t_n / N"
   ]
  },
  {
   "cell_type": "markdown",
   "id": "b8b9463f-d73d-4d3c-95bb-b3a65cd689ab",
   "metadata": {},
   "source": [
    "Случайный периодический сигнал, а котором явно выделены 4 экстремума"
   ]
  },
  {
   "cell_type": "code",
   "execution_count": 31,
   "id": "a66a9f9a-c4ba-40a1-b935-4376a3b8e3cb",
   "metadata": {},
   "outputs": [
    {
     "data": {
      "text/plain": [
       "[<matplotlib.lines.Line2D at 0x134466470>]"
      ]
     },
     "execution_count": 31,
     "metadata": {},
     "output_type": "execute_result"
    },
    {
     "data": {
      "image/png": "[encoded data removed]",
      "text/plain": [
       "<Figure size 432x288 with 1 Axes>"
      ]
     },
     "metadata": {
      "needs_background": "light"
     },
     "output_type": "display_data"
    }
   ],
   "source": [
    "plt.plot(X_train[1, :])"
   ]
  },
  {
   "cell_type": "markdown",
   "id": "f379cd94-04a2-49cf-bdc6-4f643cc195fe",
   "metadata": {},
   "source": [
    "На графике частот и амплитуд видно соответственно 4 пика"
   ]
  },
  {
   "cell_type": "code",
   "execution_count": 33,
   "id": "f268dddc-e2c8-41e7-9ae6-6e202afb260a",
   "metadata": {},
   "outputs": [
    {
     "data": {
      "image/png": "[encoded data removed]",
      "text/plain": [
       "<Figure size 432x288 with 1 Axes>"
      ]
     },
     "metadata": {
      "needs_background": "light"
     },
     "output_type": "display_data"
    }
   ],
   "source": [
    "def get_fft_values(y_values, T, N):  \n",
    "    f_values = np.linspace(0.0, 1.0 / (2.0 * T), N // 2)\n",
    "    fft_values_ = fft(y_values)\n",
    "    fft_values = 2.0 / N * np.abs(fft_values_[0: N // 2])\n",
    "    return f_values, fft_values\n",
    "\n",
    "f_values, fft_values = get_fft_values(X_train[1, :], T, N)\n",
    "\n",
    "plt.plot(f_values, fft_values)\n",
    "plt.xlabel('Frequency [Hz]', fontsize=16)\n",
    "plt.ylabel('Amplitude', fontsize=16)\n",
    "plt.title(\"Frequency domain of the signal\", fontsize=16)\n",
    "plt.show()"
   ]
  },
  {
   "cell_type": "markdown",
   "id": "b1dc3d02-36fc-4766-8353-ffb12b18bc64",
   "metadata": {},
   "source": [
    "### 3.1. Using full fft values\n",
    "\n",
    "В лекции в качестве признаков использовались только пики амплитуд и частот при нескольких преобразованиях исходного сигнала. Для начала посмотрим, что будет, если использовать полные значения амплитуд при преобразовании Фурье"
   ]
  },
  {
   "cell_type": "code",
   "execution_count": 18,
   "id": "0d1b519e-cec4-4904-9a43-9e0aecc5b538",
   "metadata": {},
   "outputs": [],
   "source": [
    "X_train_fft = np.asarray([get_fft_values(x, T, N)[1] for x in X_train])\n",
    "X_test_fft = np.asarray([get_fft_values(x, T, N)[1] for x in X_test])"
   ]
  },
  {
   "cell_type": "code",
   "execution_count": 19,
   "id": "1159f5d7-c9e7-4956-8ba8-4f09dfb0b464",
   "metadata": {},
   "outputs": [],
   "source": [
    "fft_forest = RandomForestClassifier(max_depth=5)\n",
    "fft_forest.fit(X_train_fft, y_train)\n",
    "fft_preds = fft_forest.predict(X_test_fft)"
   ]
  },
  {
   "cell_type": "code",
   "execution_count": 20,
   "id": "40835e0c-bec3-47c8-b74b-ce0eb631ae0c",
   "metadata": {},
   "outputs": [
    {
     "name": "stdout",
     "output_type": "stream",
     "text": [
      "Accuracy score: 0.9752\n",
      "F1 score: 0.9362\n",
      "Confusion matrix:\n"
     ]
    },
    {
     "data": {
      "image/png": "[encoded data removed]",
      "text/plain": [
       "<Figure size 360x216 with 1 Axes>"
      ]
     },
     "metadata": {
      "needs_background": "light"
     },
     "output_type": "display_data"
    }
   ],
   "source": [
    "get_main_metrics(fft_preds, y_test)"
   ]
  },
  {
   "cell_type": "markdown",
   "id": "6eb76130-5917-4a60-91f7-262f64159cfd",
   "metadata": {},
   "source": [
    "По сравнению с бейслайномм скоры выросли, предсказания более сбалансированы"
   ]
  },
  {
   "cell_type": "markdown",
   "id": "f535e6a9-e30b-4d62-a22a-09d8a3768371",
   "metadata": {},
   "source": [
    "### 3.2. Using peaks\n",
    "\n",
    "Теперь же использую только значения в пиках, испоьзуя пакет scipy"
   ]
  },
  {
   "cell_type": "code",
   "execution_count": 21,
   "id": "34dcc188-41fe-4092-b31d-29c3c30feddc",
   "metadata": {},
   "outputs": [],
   "source": [
    "peaks, _ = find_peaks(fft_values)"
   ]
  },
  {
   "cell_type": "code",
   "execution_count": 22,
   "id": "bdcd64b2-c0c6-4a74-b242-1072a9667efd",
   "metadata": {},
   "outputs": [
    {
     "data": {
      "text/plain": [
       "array([ 7, 14, 17, 20, 26, 32, 34, 38, 44, 47])"
      ]
     },
     "execution_count": 22,
     "metadata": {},
     "output_type": "execute_result"
    }
   ],
   "source": [
    "peaks[:10]"
   ]
  },
  {
   "cell_type": "code",
   "execution_count": 23,
   "id": "e6babe64-1e06-4f06-88ed-abecdacf921d",
   "metadata": {},
   "outputs": [
    {
     "data": {
      "text/plain": [
       "array([ 7, 14, 13, 20, 15,  0,  6,  8, 19, 17])"
      ]
     },
     "execution_count": 23,
     "metadata": {},
     "output_type": "execute_result"
    }
   ],
   "source": [
    "np.argsort(fft_values)[::-1][:10]"
   ]
  },
  {
   "cell_type": "code",
   "execution_count": 24,
   "id": "e043655d-dd9f-467a-ac95-166b50f13b56",
   "metadata": {},
   "outputs": [],
   "source": [
    "def extract_features(signal, n_peaks=10):\n",
    "    f_values, fft_values = get_fft_values(signal, T, N)\n",
    "    peaks, _ = find_peaks(fft_values)\n",
    "    x, y = f_values[peaks[:n_peaks]], fft_values[peaks[:n_peaks]]\n",
    "    if len(peaks) < n_peaks:\n",
    "        n_miss = n_peaks - len(peaks)\n",
    "        x = np.concatenate((x, np.asarray([0] * n_miss)))\n",
    "        y = np.concatenate((y, np.asarray([0] * n_miss)))\n",
    "    return np.concatenate((x, y))"
   ]
  },
  {
   "cell_type": "code",
   "execution_count": 25,
   "id": "c44e68bd-1433-4651-b5ec-58a44c4a4000",
   "metadata": {},
   "outputs": [
    {
     "data": {
      "text/plain": [
       "array([  7.07954545,  14.15909091,  17.19318182,  20.22727273,\n",
       "        26.29545455,  32.36363636,  34.38636364,  38.43181818,\n",
       "        44.5       ,  47.53409091, 227.44075589, 220.26781632,\n",
       "        47.54029579, 146.24538078,  20.23470802,  15.04333796,\n",
       "        23.20719928,  10.2854297 ,   6.4097417 ,   6.9491429 ])"
      ]
     },
     "execution_count": 25,
     "metadata": {},
     "output_type": "execute_result"
    }
   ],
   "source": [
    "extract_features(X_train[1, :])"
   ]
  },
  {
   "cell_type": "code",
   "execution_count": 26,
   "id": "50e4704d-2bd8-4e53-bdfe-33be65888a21",
   "metadata": {},
   "outputs": [],
   "source": [
    "X_train_peaks = np.asarray([extract_features(x) for x in X_train])\n",
    "X_test_peaks = np.asarray([extract_features(x) for x in X_test])"
   ]
  },
  {
   "cell_type": "code",
   "execution_count": 27,
   "id": "494d57af-e557-45a5-b1cf-5808bb880a99",
   "metadata": {},
   "outputs": [],
   "source": [
    "peak_forest = RandomForestClassifier(max_depth=5)\n",
    "peak_forest.fit(X_train_peaks, y_train)\n",
    "peak_preds = peak_forest.predict(X_test_peaks)"
   ]
  },
  {
   "cell_type": "code",
   "execution_count": 28,
   "id": "f1b495fc-b7bf-407f-89ac-c8b85baa74ba",
   "metadata": {},
   "outputs": [
    {
     "name": "stdout",
     "output_type": "stream",
     "text": [
      "Accuracy score: 0.9757\n",
      "F1 score: 0.9372\n",
      "Confusion matrix:\n"
     ]
    },
    {
     "data": {
      "image/png": "[encoded data removed]",
      "text/plain": [
       "<Figure size 360x216 with 1 Axes>"
      ]
     },
     "metadata": {
      "needs_background": "light"
     },
     "output_type": "display_data"
    }
   ],
   "source": [
    "get_main_metrics(peak_preds, y_test)"
   ]
  },
  {
   "cell_type": "markdown",
   "id": "a65a4ec1-5a44-4cef-9d26-c7b8148c0de0",
   "metadata": {},
   "source": [
    "Незначительно выросли скоры."
   ]
  },
  {
   "cell_type": "markdown",
   "id": "40bc0beb-398b-437f-9c03-857c1b8a5b25",
   "metadata": {},
   "source": [
    "## 4. Wavelet transform\n",
    "\n",
    "В лекции использовалась непрерывная трансформация только для демонстрации принципа, а на практике к данным HAR была применена дискретная трансформация с последующим извлечением признаков. Поэтому здесь будет использована continious-трансформация"
   ]
  },
  {
   "cell_type": "code",
   "execution_count": 29,
   "id": "a21aa6da-7500-4797-9070-8d0e4013a2b5",
   "metadata": {},
   "outputs": [
    {
     "data": {
      "text/plain": [
       "<matplotlib.image.AxesImage at 0x13d5f62c0>"
      ]
     },
     "execution_count": 29,
     "metadata": {},
     "output_type": "execute_result"
    },
    {
     "data": {
      "image/png": "[encoded data removed]",
      "text/plain": [
       "<Figure size 720x360 with 1 Axes>"
      ]
     },
     "metadata": {
      "needs_background": "light"
     },
     "output_type": "display_data"
    }
   ],
   "source": [
    "scale = np.arange(1, N // 2)\n",
    "wavelet = 'morl'\n",
    "\n",
    "coefficients, frequencies = pywt.cwt(X_train[1, :], scale, wavelet)\n",
    "fig, ax = plt.subplots(figsize=(10, 5))\n",
    "ax.imshow(coefficients)"
   ]
  },
  {
   "cell_type": "markdown",
   "id": "e12636c5-faf4-41aa-af01-42554274edab",
   "metadata": {},
   "source": [
    "### 4.1. Flatten CWT + PCA\n",
    "\n",
    "Самый простой вариант - уплощить векторы и уменьшить размерность"
   ]
  },
  {
   "cell_type": "code",
   "execution_count": 30,
   "id": "0c4956ec-856f-4b4b-a23b-29e047a282a6",
   "metadata": {},
   "outputs": [],
   "source": [
    "def get_flatten_cwt(X):\n",
    "    result = []\n",
    "    for x in tqdm(X):\n",
    "        coef, _ = pywt.cwt(x, scale, wavelet)\n",
    "        result.append(coef.flatten())\n",
    "    return np.asarray(result)"
   ]
  },
  {
   "cell_type": "code",
   "execution_count": 31,
   "id": "327ebb2b-b14c-495a-9b7e-841a5b7f532d",
   "metadata": {},
   "outputs": [
    {
     "data": {
      "application/vnd.jupyter.widget-view+json": {
       "model_id": "b058ed6ac3734e3bac63a2cd67ed7fa6",
       "version_major": 2,
       "version_minor": 0
      },
      "text/plain": [
       "  0%|          | 0/9200 [00:00<?, ?it/s]"
      ]
     },
     "metadata": {},
     "output_type": "display_data"
    },
    {
     "data": {
      "application/vnd.jupyter.widget-view+json": {
       "model_id": "95c0e9f48ee34bd58027fa07210748c2",
       "version_major": 2,
       "version_minor": 0
      },
      "text/plain": [
       "  0%|          | 0/2300 [00:00<?, ?it/s]"
      ]
     },
     "metadata": {},
     "output_type": "display_data"
    }
   ],
   "source": [
    "X_train_cwt = get_flatten_cwt(X_train)\n",
    "X_test_cwt = get_flatten_cwt(X_test)"
   ]
  },
  {
   "cell_type": "code",
   "execution_count": 32,
   "id": "5cf55486-1f86-45ea-8d7e-dc79aa5647ff",
   "metadata": {},
   "outputs": [
    {
     "data": {
      "text/plain": [
       "(9200, 15664)"
      ]
     },
     "execution_count": 32,
     "metadata": {},
     "output_type": "execute_result"
    }
   ],
   "source": [
    "X_train_cwt.shape"
   ]
  },
  {
   "cell_type": "code",
   "execution_count": 55,
   "id": "b2c2cbeb-cde9-4f00-bd2f-c9fbe150f0b5",
   "metadata": {},
   "outputs": [],
   "source": [
    "pca = PCA(n_components=32)"
   ]
  },
  {
   "cell_type": "code",
   "execution_count": 56,
   "id": "36ac94ce-c1bf-47f4-81c5-1f653a5af924",
   "metadata": {},
   "outputs": [
    {
     "name": "stdout",
     "output_type": "stream",
     "text": [
      "CPU times: user 43 s, sys: 3.52 s, total: 46.6 s\n",
      "Wall time: 7.39 s\n"
     ]
    }
   ],
   "source": [
    "%%time\n",
    "X_train_pca = pca.fit_transform(X_train_cwt)"
   ]
  },
  {
   "cell_type": "code",
   "execution_count": 57,
   "id": "d3e68d61-79f7-46f2-9701-f28a2a53820f",
   "metadata": {},
   "outputs": [],
   "source": [
    "X_test_pca = pca.transform(X_test_cwt)"
   ]
  },
  {
   "cell_type": "code",
   "execution_count": 58,
   "id": "1500ded3-a242-4071-8858-5c2ba3d41d71",
   "metadata": {},
   "outputs": [],
   "source": [
    "cwt_forest = RandomForestClassifier(max_depth=5)\n",
    "cwt_forest.fit(X_train_pca, y_train)\n",
    "cwt_preds = cwt_forest.predict(X_test_pca)"
   ]
  },
  {
   "cell_type": "code",
   "execution_count": 59,
   "id": "b8970882-df36-4480-8a4d-989136d5ab0c",
   "metadata": {},
   "outputs": [
    {
     "name": "stdout",
     "output_type": "stream",
     "text": [
      "Accuracy score: 0.9530\n",
      "F1 score: 0.8729\n",
      "Confusion matrix:\n"
     ]
    },
    {
     "data": {
      "image/png": "[encoded data removed]",
      "text/plain": [
       "<Figure size 360x216 with 1 Axes>"
      ]
     },
     "metadata": {
      "needs_background": "light"
     },
     "output_type": "display_data"
    }
   ],
   "source": [
    "get_main_metrics(cwt_preds, y_test)"
   ]
  },
  {
   "cell_type": "markdown",
   "id": "08c9993c-7532-46bd-95db-8a42f6d7548b",
   "metadata": {},
   "source": [
    "Результаты хуже, чем у трансформации Фурье"
   ]
  },
  {
   "cell_type": "markdown",
   "id": "e17c7e2f-2725-4d57-b8f4-c0c83e0d4103",
   "metadata": {},
   "source": [
    "### 4.2. Standard CNN\n",
    "\n",
    "Возможно, применение классических сверток, как при работе с изображениями, может улучшить модель. Для этого проще всего сделать векторы квадратными."
   ]
  },
  {
   "cell_type": "code",
   "execution_count": 71,
   "id": "32177643-ac20-4dd3-91c4-d7b0b4f04f34",
   "metadata": {},
   "outputs": [
    {
     "data": {
      "text/plain": [
       "<matplotlib.image.AxesImage at 0x141fb56c0>"
      ]
     },
     "execution_count": 71,
     "metadata": {},
     "output_type": "execute_result"
    },
    {
     "data": {
      "image/png": "[encoded data removed]",
      "text/plain": [
       "<Figure size 360x360 with 1 Axes>"
      ]
     },
     "metadata": {
      "needs_background": "light"
     },
     "output_type": "display_data"
    }
   ],
   "source": [
    "resized_cwt = resize(coefficients, (64, 64))\n",
    "fig, ax = plt.subplots(figsize=(5, 5))\n",
    "ax.imshow(resized_cwt)"
   ]
  },
  {
   "cell_type": "code",
   "execution_count": 101,
   "id": "797265be-6773-4d85-a677-5a6d271c5860",
   "metadata": {},
   "outputs": [],
   "source": [
    "def get_resized_cwt(X):\n",
    "    result = []\n",
    "    for x in tqdm(X):\n",
    "        coef, _ = pywt.cwt(x, scale, wavelet)\n",
    "        result.append(resize(coef, (1, 64, 64)))\n",
    "    return np.asarray(result)"
   ]
  },
  {
   "cell_type": "code",
   "execution_count": 102,
   "id": "aad99b75-020a-4f1b-ad74-f822181c69ed",
   "metadata": {},
   "outputs": [
    {
     "data": {
      "application/vnd.jupyter.widget-view+json": {
       "model_id": "387adf81803243849a5853277be97954",
       "version_major": 2,
       "version_minor": 0
      },
      "text/plain": [
       "  0%|          | 0/9200 [00:00<?, ?it/s]"
      ]
     },
     "metadata": {},
     "output_type": "display_data"
    },
    {
     "data": {
      "application/vnd.jupyter.widget-view+json": {
       "model_id": "46cb3db720cc476988f70187469452c9",
       "version_major": 2,
       "version_minor": 0
      },
      "text/plain": [
       "  0%|          | 0/2300 [00:00<?, ?it/s]"
      ]
     },
     "metadata": {},
     "output_type": "display_data"
    }
   ],
   "source": [
    "X_train_cwt = get_resized_cwt(X_train)\n",
    "X_test_cwt = get_resized_cwt(X_test)"
   ]
  },
  {
   "cell_type": "code",
   "execution_count": 279,
   "id": "94b88928-595c-4491-b6d8-6c305c5e04a9",
   "metadata": {},
   "outputs": [
    {
     "data": {
      "text/plain": [
       "(9200, 1, 64, 64)"
      ]
     },
     "execution_count": 279,
     "metadata": {},
     "output_type": "execute_result"
    }
   ],
   "source": [
    "X_train_cwt.shape"
   ]
  },
  {
   "cell_type": "code",
   "execution_count": 313,
   "id": "2444274c-f221-46b3-a8cd-a3e272ce4d32",
   "metadata": {},
   "outputs": [],
   "source": [
    "class CNN(nn.Module):\n",
    "    \n",
    "    def __init__(self):\n",
    "        super(CNN, self).__init__()\n",
    "        self.conv1 = nn.Conv2d(1, 8, kernel_size=5)\n",
    "        self.conv2 = nn.Conv2d(8, 16, kernel_size=5)\n",
    "        self.conv2_drop = nn.Dropout2d()\n",
    "        self.fc1 = nn.Linear(2704, 64)\n",
    "        self.fc2 = nn.Linear(64, 2)\n",
    "\n",
    "    def forward(self, x):\n",
    "        x = F.relu(F.max_pool2d(self.conv1(x), 2))\n",
    "        x = F.relu(F.max_pool2d(self.conv2_drop(self.conv2(x)), 2))\n",
    "        x = x.view(-1, 2704)\n",
    "        x = F.relu(self.fc1(x))\n",
    "        x = F.dropout(x, training=self.training)\n",
    "        x = self.fc2(x)\n",
    "        return F.log_softmax(x, dim=-1)"
   ]
  },
  {
   "cell_type": "code",
   "execution_count": 320,
   "id": "eccb10a9-2856-4f3d-998f-d50cd6f0a3b8",
   "metadata": {},
   "outputs": [],
   "source": [
    "cnn = CNN()\n",
    "optimizer = optim.SGD(cnn.parameters(), lr=1e-3, momentum=0.7)"
   ]
  },
  {
   "cell_type": "code",
   "execution_count": 321,
   "id": "3feb2004-be13-4bff-80cc-f13ad8cda3ac",
   "metadata": {},
   "outputs": [],
   "source": [
    "batch_size = 32\n",
    "\n",
    "X_train_tensor = torch.tensor(X_train_cwt, dtype=torch.float)\n",
    "y_train_tensor = torch.tensor(y_train, dtype=torch.int64)\n",
    "\n",
    "X_test_tensor = torch.tensor(X_test_cwt, dtype=torch.float)\n",
    "y_test_tensor = torch.tensor(y_test, dtype=torch.int64)\n",
    "\n",
    "train_dataset = TensorDataset(X_train_tensor, y_train_tensor)\n",
    "test_dataset = TensorDataset(X_test_tensor, y_test_tensor)\n",
    "\n",
    "train_loader = DataLoader(train_dataset, batch_size)\n",
    "test_loader = DataLoader(test_dataset, batch_size)"
   ]
  },
  {
   "cell_type": "code",
   "execution_count": 322,
   "id": "89ea8b06-9b09-42ac-bdf9-1057c4d442de",
   "metadata": {},
   "outputs": [],
   "source": [
    "train_losses, test_losses, accuracies = [], [], []\n",
    "\n",
    "def train_nn(epoch):\n",
    "    cnn.train()\n",
    "    for batch_idx, (sample, target) in enumerate(train_loader):\n",
    "        optimizer.zero_grad()\n",
    "        output = cnn(sample)\n",
    "        loss = F.cross_entropy(output, target)\n",
    "        loss.backward()\n",
    "        optimizer.step()\n",
    "        train_losses.append(loss.item())\n",
    "    print('Train Epoch: {}, Loss: {:.6f}'.format(epoch, loss.item()))\n",
    "\n",
    "def test_nn():\n",
    "    cnn.eval()\n",
    "    test_loss = 0\n",
    "    correct = 0\n",
    "    with torch.no_grad():\n",
    "        for sample, target in test_loader:\n",
    "            output = cnn(sample)\n",
    "            test_loss += F.cross_entropy(output, target, size_average=False).item()\n",
    "            pred = np.argmax(output.detach().numpy(), -1)\n",
    "            correct += np.where(target.detach().numpy() == pred)[0].shape[0]\n",
    "    test_loss /= len(test_loader.dataset)\n",
    "    test_losses.append(test_loss)\n",
    "    accuracies.append(100. * correct / len(test_loader.dataset))\n",
    "    print('Test loss: {:.4f}, Accuracy: {:.0f}%'.format(\n",
    "        test_loss, 100. * correct / len(test_loader.dataset)))"
   ]
  },
  {
   "cell_type": "code",
   "execution_count": 323,
   "id": "42717dac-650a-4548-9af8-b568875d5226",
   "metadata": {},
   "outputs": [
    {
     "name": "stderr",
     "output_type": "stream",
     "text": [
      "/Users/bryl/projects/venv/lib/python3.10/site-packages/torch/nn/_reduction.py:42: UserWarning: size_average and reduce args will be deprecated, please use reduction='sum' instead.\n",
      "  warnings.warn(warning.format(ret))\n"
     ]
    },
    {
     "name": "stdout",
     "output_type": "stream",
     "text": [
      "Test loss: 2.1231, Accuracy: 72%\n",
      "Train Epoch: 0, Loss: 0.482653\n",
      "Test loss: 0.4585, Accuracy: 93%\n",
      "Train Epoch: 1, Loss: 0.398128\n",
      "Test loss: 0.3729, Accuracy: 94%\n",
      "Train Epoch: 2, Loss: 0.289477\n",
      "Test loss: 0.3285, Accuracy: 94%\n",
      "Train Epoch: 3, Loss: 0.267123\n",
      "Test loss: 0.3028, Accuracy: 94%\n",
      "Train Epoch: 4, Loss: 0.248554\n",
      "Test loss: 0.2729, Accuracy: 95%\n",
      "Train Epoch: 5, Loss: 0.163874\n",
      "Test loss: 0.2525, Accuracy: 94%\n",
      "Train Epoch: 6, Loss: 0.174154\n",
      "Test loss: 0.2417, Accuracy: 94%\n",
      "Train Epoch: 7, Loss: 0.162898\n",
      "Test loss: 0.2275, Accuracy: 94%\n",
      "Train Epoch: 8, Loss: 0.140971\n",
      "Test loss: 0.2211, Accuracy: 93%\n",
      "Train Epoch: 9, Loss: 0.173795\n",
      "Test loss: 0.2106, Accuracy: 94%\n"
     ]
    }
   ],
   "source": [
    "test_nn()\n",
    "for epoch in range(10):\n",
    "    train_nn(epoch)\n",
    "    test_nn()"
   ]
  },
  {
   "cell_type": "code",
   "execution_count": 324,
   "id": "cd2482c8-d143-4887-a8f0-812b8134d426",
   "metadata": {},
   "outputs": [],
   "source": [
    "cnn_preds = np.asarray([])\n",
    "cnn.eval()\n",
    "with torch.no_grad():\n",
    "    for sample, target in test_loader:\n",
    "        output = cnn(sample)\n",
    "        pred = np.argmax(output.detach().numpy(), -1)\n",
    "        cnn_preds = np.concatenate((cnn_preds, pred))"
   ]
  },
  {
   "cell_type": "code",
   "execution_count": 325,
   "id": "3d4d3276-45f1-44d4-a9dc-ddde6e6f1dca",
   "metadata": {},
   "outputs": [
    {
     "name": "stdout",
     "output_type": "stream",
     "text": [
      "Accuracy score: 0.9361\n",
      "F1 score: 0.8103\n",
      "Confusion matrix:\n"
     ]
    },
    {
     "data": {
      "image/png": "[encoded data removed]",
      "text/plain": [
       "<Figure size 360x216 with 1 Axes>"
      ]
     },
     "metadata": {
      "needs_background": "light"
     },
     "output_type": "display_data"
    }
   ],
   "source": [
    "get_main_metrics(cnn_preds, y_test)"
   ]
  },
  {
   "cell_type": "markdown",
   "id": "27fe5a9a-f085-4e47-a6df-9e231689b56a",
   "metadata": {},
   "source": [
    "Результаты опустились к показателям бейзлайна - низкий скор и смещение предсказаний. Возможно, выбрана неудачная архитектура сети, а возможно, что на этапе трансформаций эмбеддингов потеряно слишком много данных."
   ]
  },
  {
   "cell_type": "markdown",
   "id": "001c271c-7331-4556-8be6-39d5ae23b04d",
   "metadata": {},
   "source": [
    "## 5. TSFel"
   ]
  },
  {
   "cell_type": "code",
   "execution_count": 12,
   "id": "b29b461c-5a79-456a-9ddd-93e813cbc4b2",
   "metadata": {},
   "outputs": [],
   "source": [
    "cfg = tsfel.get_features_by_domain('temporal')"
   ]
  },
  {
   "cell_type": "code",
   "execution_count": 13,
   "id": "29bf382f-53ce-4b22-88b3-9f1ba468f941",
   "metadata": {},
   "outputs": [],
   "source": [
    "import warnings\n",
    "warnings.filterwarnings(\"ignore\")"
   ]
  },
  {
   "cell_type": "code",
   "execution_count": 14,
   "id": "8a7eacfc-d1e9-4edc-a22f-6486a92e3c63",
   "metadata": {},
   "outputs": [
    {
     "name": "stdout",
     "output_type": "stream",
     "text": [
      "*** Feature extraction started ***\n"
     ]
    },
    {
     "data": {
      "text/html": [
       "\n",
       "              <p>\n",
       "                  Progress: 100% Complete\n",
       "              <p/>            \n",
       "              <progress\n",
       "                  value='9200'\n",
       "                  max='9200',\n",
       "                  style='width: 25%',\n",
       "              >\n",
       "                  9200\n",
       "              </progress>\n",
       "\n",
       "    "
      ],
      "text/plain": [
       "<IPython.core.display.HTML object>"
      ]
     },
     "metadata": {},
     "output_type": "display_data"
    },
    {
     "name": "stdout",
     "output_type": "stream",
     "text": [
      "\n",
      "*** Feature extraction finished ***\n",
      "*** Feature extraction started ***\n"
     ]
    },
    {
     "data": {
      "text/html": [
       "\n",
       "              <p>\n",
       "                  Progress: 100% Complete\n",
       "              <p/>            \n",
       "              <progress\n",
       "                  value='2300'\n",
       "                  max='2300',\n",
       "                  style='width: 25%',\n",
       "              >\n",
       "                  2300\n",
       "              </progress>\n",
       "\n",
       "    "
      ],
      "text/plain": [
       "<IPython.core.display.HTML object>"
      ]
     },
     "metadata": {},
     "output_type": "display_data"
    },
    {
     "name": "stdout",
     "output_type": "stream",
     "text": [
      "\n",
      "*** Feature extraction finished ***\n",
      "CPU times: user 26.5 s, sys: 5.42 s, total: 31.9 s\n",
      "Wall time: 38.4 s\n"
     ]
    }
   ],
   "source": [
    "%%time\n",
    "X_train_tsfel = tsfel.time_series_features_extractor(cfg, X_train, 100)\n",
    "X_test_tsfel = tsfel.time_series_features_extractor(cfg, X_test, 100)"
   ]
  },
  {
   "cell_type": "code",
   "execution_count": 19,
   "id": "681328f4-395b-4364-b736-285f266f1e3a",
   "metadata": {},
   "outputs": [],
   "source": [
    "corr_features = tsfel.correlated_features(X_train_tsfel)\n",
    "X_train_tsfel.drop(corr_features, axis=1, inplace=True)\n",
    "X_test_tsfel.drop(corr_features, axis=1, inplace=True)"
   ]
  },
  {
   "cell_type": "code",
   "execution_count": 23,
   "id": "6dd54fd7-206c-4646-b288-90fbc4f768df",
   "metadata": {},
   "outputs": [],
   "source": [
    "selector = VarianceThreshold(0.9)\n",
    "X_train_tsfel = selector.fit_transform(X_train_tsfel)\n",
    "X_test_tsfel = selector.transform(X_test_tsfel)"
   ]
  },
  {
   "cell_type": "code",
   "execution_count": 24,
   "id": "30172160-7ac8-49f6-99cd-1402fae07a3f",
   "metadata": {},
   "outputs": [
    {
     "data": {
      "text/plain": [
       "(9200, 7)"
      ]
     },
     "execution_count": 24,
     "metadata": {},
     "output_type": "execute_result"
    }
   ],
   "source": [
    "X_train_tsfel.shape"
   ]
  },
  {
   "cell_type": "code",
   "execution_count": 25,
   "id": "af31a2d8-fbb7-4cad-9577-861ae0cd3231",
   "metadata": {},
   "outputs": [],
   "source": [
    "tsfel_forest = RandomForestClassifier(max_depth=5)\n",
    "tsfel_forest.fit(X_train_tsfel, y_train)\n",
    "tsfel_preds = tsfel_forest.predict(X_test_tsfel)"
   ]
  },
  {
   "cell_type": "code",
   "execution_count": 27,
   "id": "114a7e95-eba6-4bda-a5ed-afcf2977b942",
   "metadata": {},
   "outputs": [
    {
     "name": "stdout",
     "output_type": "stream",
     "text": [
      "Accuracy score: 0.9783\n",
      "F1 score: 0.9439\n",
      "Confusion matrix:\n"
     ]
    },
    {
     "data": {
      "image/png": "[encoded data removed]",
      "text/plain": [
       "<Figure size 360x216 with 1 Axes>"
      ]
     },
     "metadata": {
      "needs_background": "light"
     },
     "output_type": "display_data"
    }
   ],
   "source": [
    "get_main_metrics(tsfel_preds, y_test)"
   ]
  },
  {
   "cell_type": "markdown",
   "id": "7fbe22d0-f37f-43f9-b258-4b2fd1d2b63d",
   "metadata": {},
   "source": [
    "Алгоритм автоматической генерации признаков показывает наилучшие результаты, даже с учетом отбора только 7 признаков"
   ]
  },
  {
   "cell_type": "code",
   "execution_count": null,
   "id": "00a5aaab-fb16-4be5-a860-00a6805ddbd1",
   "metadata": {},
   "outputs": [],
   "source": []
  }
 ],
 "metadata": {
  "kernelspec": {
   "display_name": "Python 3 (ipykernel)",
   "language": "python",
   "name": "python3"
  },
  "language_info": {
   "codemirror_mode": {
    "name": "ipython",
    "version": 3
   },
   "file_extension": ".py",
   "mimetype": "text/x-python",
   "name": "python",
   "nbconvert_exporter": "python",
   "pygments_lexer": "ipython3",
   "version": "3.10.4"
  }
 },
 "nbformat": 4,
 "nbformat_minor": 5
}
