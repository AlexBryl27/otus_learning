{
 "cells": [
  {
   "cell_type": "markdown",
   "id": "08d85005-af23-4d41-927b-857b8f65a32e",
   "metadata": {},
   "source": [
    "# Построение рекомендательной системы с помощью Surprise"
   ]
  },
  {
   "cell_type": "code",
   "execution_count": 68,
   "id": "e22eceee-de4b-4fc2-985b-e56f7ad9468d",
   "metadata": {},
   "outputs": [],
   "source": [
    "import pandas as pd\n",
    "import numpy as np\n",
    "from tqdm.auto import tqdm\n",
    "import gzip\n",
    "import json\n",
    "\n",
    "from surprise import Dataset, Reader\n",
    "from surprise import KNNBasic, SVD, AlgoBase, accuracy"
   ]
  },
  {
   "cell_type": "code",
   "execution_count": 2,
   "id": "3f7796a5-cd54-48e8-a73e-ad5c79d06925",
   "metadata": {},
   "outputs": [],
   "source": [
    "def parse(path):\n",
    "    g = gzip.open(path, 'rb')\n",
    "    for l in g:\n",
    "        yield json.loads(l)\n",
    "\n",
    "def getDF(path):\n",
    "    i = 0\n",
    "    df = {}\n",
    "    for d in parse(path):\n",
    "        df[i] = d\n",
    "        i += 1\n",
    "    return pd.DataFrame.from_dict(df, orient='index')"
   ]
  },
  {
   "cell_type": "markdown",
   "id": "c6829335-6fec-4f2d-a76b-5e5fe376e223",
   "metadata": {},
   "source": [
    "## 1. EDA\n",
    "\n",
    "Датасет с отзывами о музыкальных релизах (Digital Music).\n",
    "\n",
    "Интересующие нас колонки:\n",
    "* reviewerID\n",
    "* asin - id релиза\n",
    "* overall - оценка релиза\n",
    "\n",
    "Решаем классическую задачу предсказания рейтинга релиза"
   ]
  },
  {
   "cell_type": "code",
   "execution_count": 3,
   "id": "52c8057f-b677-476a-b631-007937796703",
   "metadata": {},
   "outputs": [
    {
     "data": {
      "text/html": [
       "<div>\n",
       "<style scoped>\n",
       "    .dataframe tbody tr th:only-of-type {\n",
       "        vertical-align: middle;\n",
       "    }\n",
       "\n",
       "    .dataframe tbody tr th {\n",
       "        vertical-align: top;\n",
       "    }\n",
       "\n",
       "    .dataframe thead th {\n",
       "        text-align: right;\n",
       "    }\n",
       "</style>\n",
       "<table border=\"1\" class=\"dataframe\">\n",
       "  <thead>\n",
       "    <tr style=\"text-align: right;\">\n",
       "      <th></th>\n",
       "      <th>overall</th>\n",
       "      <th>vote</th>\n",
       "      <th>verified</th>\n",
       "      <th>reviewTime</th>\n",
       "      <th>reviewerID</th>\n",
       "      <th>asin</th>\n",
       "      <th>style</th>\n",
       "      <th>reviewerName</th>\n",
       "      <th>reviewText</th>\n",
       "      <th>summary</th>\n",
       "      <th>unixReviewTime</th>\n",
       "      <th>image</th>\n",
       "    </tr>\n",
       "  </thead>\n",
       "  <tbody>\n",
       "    <tr>\n",
       "      <th>0</th>\n",
       "      <td>5.0</td>\n",
       "      <td>3</td>\n",
       "      <td>True</td>\n",
       "      <td>06 3, 2013</td>\n",
       "      <td>A2TYZ821XXK2YZ</td>\n",
       "      <td>3426958910</td>\n",
       "      <td>{'Format:': ' Audio CD'}</td>\n",
       "      <td>Garrett</td>\n",
       "      <td>This is awesome to listen to, A must-have for ...</td>\n",
       "      <td>Slayer Rules!</td>\n",
       "      <td>1370217600</td>\n",
       "      <td>NaN</td>\n",
       "    </tr>\n",
       "    <tr>\n",
       "      <th>1</th>\n",
       "      <td>5.0</td>\n",
       "      <td>NaN</td>\n",
       "      <td>True</td>\n",
       "      <td>10 11, 2014</td>\n",
       "      <td>A3OFSREZADFUDY</td>\n",
       "      <td>3426958910</td>\n",
       "      <td>{'Format:': ' Audio CD'}</td>\n",
       "      <td>Ad</td>\n",
       "      <td>bien</td>\n",
       "      <td>Five Stars</td>\n",
       "      <td>1412985600</td>\n",
       "      <td>NaN</td>\n",
       "    </tr>\n",
       "    <tr>\n",
       "      <th>2</th>\n",
       "      <td>5.0</td>\n",
       "      <td>NaN</td>\n",
       "      <td>True</td>\n",
       "      <td>02 11, 2014</td>\n",
       "      <td>A2VAMODP8M77NG</td>\n",
       "      <td>3426958910</td>\n",
       "      <td>{'Format:': ' Audio CD'}</td>\n",
       "      <td>JTGabq</td>\n",
       "      <td>It was great to hear the old stuff again and I...</td>\n",
       "      <td>SLAYER!!!!!!!!!!!!!!!!!!!!!</td>\n",
       "      <td>1392076800</td>\n",
       "      <td>NaN</td>\n",
       "    </tr>\n",
       "    <tr>\n",
       "      <th>3</th>\n",
       "      <td>4.0</td>\n",
       "      <td>3</td>\n",
       "      <td>False</td>\n",
       "      <td>12 7, 2013</td>\n",
       "      <td>AAKSLZ9IDTEH0</td>\n",
       "      <td>3426958910</td>\n",
       "      <td>{'Format:': ' Audio CD'}</td>\n",
       "      <td>john F&amp;#039;n doe</td>\n",
       "      <td>well best of's are a bit poison normally but t...</td>\n",
       "      <td>slayer greatest hits! you mean everything righ...</td>\n",
       "      <td>1386374400</td>\n",
       "      <td>NaN</td>\n",
       "    </tr>\n",
       "    <tr>\n",
       "      <th>4</th>\n",
       "      <td>5.0</td>\n",
       "      <td>NaN</td>\n",
       "      <td>True</td>\n",
       "      <td>06 12, 2016</td>\n",
       "      <td>A3OH43OZJLKI09</td>\n",
       "      <td>5557706259</td>\n",
       "      <td>{'Format:': ' Audio CD'}</td>\n",
       "      <td>melinda a goodman</td>\n",
       "      <td>What can I say? This is Casting Crowns!!!This ...</td>\n",
       "      <td>This is a good, blessing filled</td>\n",
       "      <td>1465689600</td>\n",
       "      <td>NaN</td>\n",
       "    </tr>\n",
       "    <tr>\n",
       "      <th>...</th>\n",
       "      <td>...</td>\n",
       "      <td>...</td>\n",
       "      <td>...</td>\n",
       "      <td>...</td>\n",
       "      <td>...</td>\n",
       "      <td>...</td>\n",
       "      <td>...</td>\n",
       "      <td>...</td>\n",
       "      <td>...</td>\n",
       "      <td>...</td>\n",
       "      <td>...</td>\n",
       "      <td>...</td>\n",
       "    </tr>\n",
       "    <tr>\n",
       "      <th>169776</th>\n",
       "      <td>5.0</td>\n",
       "      <td>NaN</td>\n",
       "      <td>True</td>\n",
       "      <td>08 19, 2018</td>\n",
       "      <td>A1SR2T84IXOMAQ</td>\n",
       "      <td>B01HJ91MTW</td>\n",
       "      <td>{'Format:': ' MP3 Music'}</td>\n",
       "      <td>Diane B.</td>\n",
       "      <td>Casting Crowns songs are all wonderful!!</td>\n",
       "      <td>Great song!!</td>\n",
       "      <td>1534636800</td>\n",
       "      <td>NaN</td>\n",
       "    </tr>\n",
       "    <tr>\n",
       "      <th>169777</th>\n",
       "      <td>5.0</td>\n",
       "      <td>NaN</td>\n",
       "      <td>True</td>\n",
       "      <td>03 18, 2018</td>\n",
       "      <td>A2SR3DWJR1PYR6</td>\n",
       "      <td>B01HJ91MTW</td>\n",
       "      <td>{'Format:': ' MP3 Music'}</td>\n",
       "      <td>jan c.</td>\n",
       "      <td>Just reminds you that you are never alone.</td>\n",
       "      <td>Five Stars</td>\n",
       "      <td>1521331200</td>\n",
       "      <td>NaN</td>\n",
       "    </tr>\n",
       "    <tr>\n",
       "      <th>169778</th>\n",
       "      <td>5.0</td>\n",
       "      <td>NaN</td>\n",
       "      <td>True</td>\n",
       "      <td>03 7, 2018</td>\n",
       "      <td>A24V7X30NIMOIY</td>\n",
       "      <td>B01HJ91MTW</td>\n",
       "      <td>{'Format:': ' MP3 Music'}</td>\n",
       "      <td>Lori Y</td>\n",
       "      <td>Good product, good service.</td>\n",
       "      <td>Five Stars</td>\n",
       "      <td>1520380800</td>\n",
       "      <td>NaN</td>\n",
       "    </tr>\n",
       "    <tr>\n",
       "      <th>169779</th>\n",
       "      <td>5.0</td>\n",
       "      <td>NaN</td>\n",
       "      <td>True</td>\n",
       "      <td>02 12, 2018</td>\n",
       "      <td>A1LW10GYP2EYM1</td>\n",
       "      <td>B01HJ91MTW</td>\n",
       "      <td>{'Format:': ' MP3 Music'}</td>\n",
       "      <td>N F</td>\n",
       "      <td>I love every single song this group sings. The...</td>\n",
       "      <td>Absolutely beautiful...</td>\n",
       "      <td>1518393600</td>\n",
       "      <td>NaN</td>\n",
       "    </tr>\n",
       "    <tr>\n",
       "      <th>169780</th>\n",
       "      <td>5.0</td>\n",
       "      <td>NaN</td>\n",
       "      <td>True</td>\n",
       "      <td>01 27, 2018</td>\n",
       "      <td>A26TH3YW0QWPI7</td>\n",
       "      <td>B01HJ91MTW</td>\n",
       "      <td>{'Format:': ' MP3 Music'}</td>\n",
       "      <td>Susan Lane</td>\n",
       "      <td>Great song</td>\n",
       "      <td>Five Stars</td>\n",
       "      <td>1517011200</td>\n",
       "      <td>NaN</td>\n",
       "    </tr>\n",
       "  </tbody>\n",
       "</table>\n",
       "<p>169781 rows × 12 columns</p>\n",
       "</div>"
      ],
      "text/plain": [
       "        overall vote  verified   reviewTime      reviewerID        asin  \\\n",
       "0           5.0    3      True   06 3, 2013  A2TYZ821XXK2YZ  3426958910   \n",
       "1           5.0  NaN      True  10 11, 2014  A3OFSREZADFUDY  3426958910   \n",
       "2           5.0  NaN      True  02 11, 2014  A2VAMODP8M77NG  3426958910   \n",
       "3           4.0    3     False   12 7, 2013   AAKSLZ9IDTEH0  3426958910   \n",
       "4           5.0  NaN      True  06 12, 2016  A3OH43OZJLKI09  5557706259   \n",
       "...         ...  ...       ...          ...             ...         ...   \n",
       "169776      5.0  NaN      True  08 19, 2018  A1SR2T84IXOMAQ  B01HJ91MTW   \n",
       "169777      5.0  NaN      True  03 18, 2018  A2SR3DWJR1PYR6  B01HJ91MTW   \n",
       "169778      5.0  NaN      True   03 7, 2018  A24V7X30NIMOIY  B01HJ91MTW   \n",
       "169779      5.0  NaN      True  02 12, 2018  A1LW10GYP2EYM1  B01HJ91MTW   \n",
       "169780      5.0  NaN      True  01 27, 2018  A26TH3YW0QWPI7  B01HJ91MTW   \n",
       "\n",
       "                            style       reviewerName  \\\n",
       "0        {'Format:': ' Audio CD'}            Garrett   \n",
       "1        {'Format:': ' Audio CD'}                 Ad   \n",
       "2        {'Format:': ' Audio CD'}             JTGabq   \n",
       "3        {'Format:': ' Audio CD'}  john F&#039;n doe   \n",
       "4        {'Format:': ' Audio CD'}  melinda a goodman   \n",
       "...                           ...                ...   \n",
       "169776  {'Format:': ' MP3 Music'}           Diane B.   \n",
       "169777  {'Format:': ' MP3 Music'}             jan c.   \n",
       "169778  {'Format:': ' MP3 Music'}             Lori Y   \n",
       "169779  {'Format:': ' MP3 Music'}                N F   \n",
       "169780  {'Format:': ' MP3 Music'}         Susan Lane   \n",
       "\n",
       "                                               reviewText  \\\n",
       "0       This is awesome to listen to, A must-have for ...   \n",
       "1                                                    bien   \n",
       "2       It was great to hear the old stuff again and I...   \n",
       "3       well best of's are a bit poison normally but t...   \n",
       "4       What can I say? This is Casting Crowns!!!This ...   \n",
       "...                                                   ...   \n",
       "169776           Casting Crowns songs are all wonderful!!   \n",
       "169777         Just reminds you that you are never alone.   \n",
       "169778                        Good product, good service.   \n",
       "169779  I love every single song this group sings. The...   \n",
       "169780                                         Great song   \n",
       "\n",
       "                                                  summary  unixReviewTime  \\\n",
       "0                                           Slayer Rules!      1370217600   \n",
       "1                                              Five Stars      1412985600   \n",
       "2                             SLAYER!!!!!!!!!!!!!!!!!!!!!      1392076800   \n",
       "3       slayer greatest hits! you mean everything righ...      1386374400   \n",
       "4                         This is a good, blessing filled      1465689600   \n",
       "...                                                   ...             ...   \n",
       "169776                                       Great song!!      1534636800   \n",
       "169777                                         Five Stars      1521331200   \n",
       "169778                                         Five Stars      1520380800   \n",
       "169779                            Absolutely beautiful...      1518393600   \n",
       "169780                                         Five Stars      1517011200   \n",
       "\n",
       "       image  \n",
       "0        NaN  \n",
       "1        NaN  \n",
       "2        NaN  \n",
       "3        NaN  \n",
       "4        NaN  \n",
       "...      ...  \n",
       "169776   NaN  \n",
       "169777   NaN  \n",
       "169778   NaN  \n",
       "169779   NaN  \n",
       "169780   NaN  \n",
       "\n",
       "[169781 rows x 12 columns]"
      ]
     },
     "execution_count": 3,
     "metadata": {},
     "output_type": "execute_result"
    }
   ],
   "source": [
    "df = getDF('Digital_Music_5.json.gz')\n",
    "df"
   ]
  },
  {
   "cell_type": "code",
   "execution_count": 4,
   "id": "e57bda73-b4be-4ed3-bbd9-fbdb6ea1ef59",
   "metadata": {},
   "outputs": [
    {
     "data": {
      "text/plain": [
       "overall                0\n",
       "vote              162170\n",
       "verified               0\n",
       "reviewTime             0\n",
       "reviewerID             0\n",
       "asin                   0\n",
       "style              11792\n",
       "reviewerName           5\n",
       "reviewText           158\n",
       "summary               36\n",
       "unixReviewTime         0\n",
       "image             169599\n",
       "dtype: int64"
      ]
     },
     "execution_count": 4,
     "metadata": {},
     "output_type": "execute_result"
    }
   ],
   "source": [
    "df.isna().sum()"
   ]
  },
  {
   "cell_type": "markdown",
   "id": "5cfb82ea-ddbf-4173-a298-0814f407b58b",
   "metadata": {},
   "source": [
    "Как видно, в основном высокие оценки."
   ]
  },
  {
   "cell_type": "code",
   "execution_count": 5,
   "id": "e495af51-e549-4945-ab1d-16bc14dda85a",
   "metadata": {},
   "outputs": [
    {
     "data": {
      "text/plain": [
       "5.0    135842\n",
       "4.0     23143\n",
       "3.0      6792\n",
       "1.0      2192\n",
       "2.0      1812\n",
       "Name: overall, dtype: int64"
      ]
     },
     "execution_count": 5,
     "metadata": {},
     "output_type": "execute_result"
    }
   ],
   "source": [
    "df.overall.value_counts()"
   ]
  },
  {
   "cell_type": "markdown",
   "id": "98f1f83a-8904-4696-807c-8878d3b0341e",
   "metadata": {},
   "source": [
    "Не похоже, что есть смысл разделять тип носителя релиза."
   ]
  },
  {
   "cell_type": "code",
   "execution_count": 6,
   "id": "145dce14-ea10-44e7-bdf1-ef82039032ad",
   "metadata": {},
   "outputs": [
    {
     "data": {
      "text/plain": [
       "{'Format:': ' MP3 Music'}         146766\n",
       "{'Format:': ' Audio CD'}           10815\n",
       "{'Format:': ' Vinyl'}                345\n",
       "{'Format:': ' DVD'}                   26\n",
       "{'Format:': ' Audio Cassette'}        14\n",
       "{'Format:': ' Blu-ray Audio'}          8\n",
       "{'Format:': ' Blu-ray'}                7\n",
       "{'Format:': ' Vinyl Bound'}            4\n",
       "{'Format:': ' Amazon Video'}           3\n",
       "{'Format:': ' DVD Audio'}              1\n",
       "Name: style, dtype: int64"
      ]
     },
     "execution_count": 6,
     "metadata": {},
     "output_type": "execute_result"
    }
   ],
   "source": [
    "df['style'].value_counts()"
   ]
  },
  {
   "cell_type": "markdown",
   "id": "d4842a00-9bc0-4af4-8724-501ee48ad238",
   "metadata": {},
   "source": [
    "Количество пользователей и отзывов."
   ]
  },
  {
   "cell_type": "code",
   "execution_count": 7,
   "id": "59640c0f-b1d4-4dc5-ae40-02d01490ee4a",
   "metadata": {},
   "outputs": [
    {
     "data": {
      "text/plain": [
       "(16566, 11797)"
      ]
     },
     "execution_count": 7,
     "metadata": {},
     "output_type": "execute_result"
    }
   ],
   "source": [
    "df.reviewerID.nunique(), df.asin.nunique()"
   ]
  },
  {
   "cell_type": "markdown",
   "id": "368991b5-d3af-4a42-a645-efbb0d27bacc",
   "metadata": {},
   "source": [
    "В описании гарантировалось, что для каждого релиза/пользователя не менее 5 отзывов, но, как видно, это не так. Есть смысл отфильтровать такие отзывы, т.к. они не помогут в решении задачи."
   ]
  },
  {
   "cell_type": "code",
   "execution_count": 8,
   "id": "e374117b-da1c-4783-bd68-5bbdaa5ea6db",
   "metadata": {},
   "outputs": [
    {
     "data": {
      "text/plain": [
       "(1, 1)"
      ]
     },
     "execution_count": 8,
     "metadata": {},
     "output_type": "execute_result"
    }
   ],
   "source": [
    "df.asin.value_counts().min(), df.reviewerID.value_counts().min()"
   ]
  },
  {
   "cell_type": "markdown",
   "id": "049ff370-e9d4-4bc7-bb25-fe6397441113",
   "metadata": {},
   "source": [
    "Еще один момент, который нужно фильтровать - как видно, некоторые пользователи спамят отзывами на один и тот же релиз. Необходимо оставить только уникальные пары пользователь - релиз."
   ]
  },
  {
   "cell_type": "code",
   "execution_count": 9,
   "id": "e97fc0c9-5fde-4593-8c45-93a4ad5bcde1",
   "metadata": {},
   "outputs": [
    {
     "data": {
      "text/plain": [
       "reviewerID      asin      \n",
       "A3DG93E8TXMKZF  B001KOWH0G    52\n",
       "A23OB9FM3MUYXT  B00137ILRS    18\n",
       "                B000VWMT7Y    12\n",
       "AWG2O9C42XW5G   9434682614    10\n",
       "A23OB9FM3MUYXT  B00137MMAU    10\n",
       "                              ..\n",
       "A2DY7N9SKROB5I  B00137OCY4     1\n",
       "                B000VWGZ8S     1\n",
       "                B000VH2YME     1\n",
       "                B000V6PAHG     1\n",
       "AZZHILYMITLGM   B00GLP4GC6     1\n",
       "Length: 145292, dtype: int64"
      ]
     },
     "execution_count": 9,
     "metadata": {},
     "output_type": "execute_result"
    }
   ],
   "source": [
    "df[['reviewerID', 'asin']].value_counts()"
   ]
  },
  {
   "cell_type": "code",
   "execution_count": 10,
   "id": "5960d3e0-b991-45ef-bfcb-c7314ab03737",
   "metadata": {},
   "outputs": [
    {
     "data": {
      "text/html": [
       "<div>\n",
       "<style scoped>\n",
       "    .dataframe tbody tr th:only-of-type {\n",
       "        vertical-align: middle;\n",
       "    }\n",
       "\n",
       "    .dataframe tbody tr th {\n",
       "        vertical-align: top;\n",
       "    }\n",
       "\n",
       "    .dataframe thead th {\n",
       "        text-align: right;\n",
       "    }\n",
       "</style>\n",
       "<table border=\"1\" class=\"dataframe\">\n",
       "  <thead>\n",
       "    <tr style=\"text-align: right;\">\n",
       "      <th></th>\n",
       "      <th>overall</th>\n",
       "      <th>vote</th>\n",
       "      <th>verified</th>\n",
       "      <th>reviewTime</th>\n",
       "      <th>reviewerID</th>\n",
       "      <th>asin</th>\n",
       "      <th>style</th>\n",
       "      <th>reviewerName</th>\n",
       "      <th>reviewText</th>\n",
       "      <th>summary</th>\n",
       "      <th>unixReviewTime</th>\n",
       "      <th>image</th>\n",
       "    </tr>\n",
       "  </thead>\n",
       "  <tbody>\n",
       "    <tr>\n",
       "      <th>56566</th>\n",
       "      <td>1.0</td>\n",
       "      <td>NaN</td>\n",
       "      <td>True</td>\n",
       "      <td>04 15, 2014</td>\n",
       "      <td>A3DG93E8TXMKZF</td>\n",
       "      <td>B001KOWH0G</td>\n",
       "      <td>{'Format:': ' MP3 Music'}</td>\n",
       "      <td>JohnAroundTheCornerReviews</td>\n",
       "      <td>This is NOT a piece of music.\\n\\nIt is only us...</td>\n",
       "      <td>All this is is a single tone, DO NOT DOWNLOAD.</td>\n",
       "      <td>1397520000</td>\n",
       "      <td>NaN</td>\n",
       "    </tr>\n",
       "    <tr>\n",
       "      <th>56567</th>\n",
       "      <td>1.0</td>\n",
       "      <td>NaN</td>\n",
       "      <td>True</td>\n",
       "      <td>04 15, 2014</td>\n",
       "      <td>A3DG93E8TXMKZF</td>\n",
       "      <td>B001KOWH0G</td>\n",
       "      <td>{'Format:': ' MP3 Music'}</td>\n",
       "      <td>JohnAroundTheCornerReviews</td>\n",
       "      <td>This is NOT a piece of music.\\n\\nIt is only us...</td>\n",
       "      <td>All this is is a single tone, DO NOT DOWNLOAD.</td>\n",
       "      <td>1397520000</td>\n",
       "      <td>NaN</td>\n",
       "    </tr>\n",
       "    <tr>\n",
       "      <th>56568</th>\n",
       "      <td>1.0</td>\n",
       "      <td>NaN</td>\n",
       "      <td>True</td>\n",
       "      <td>04 15, 2014</td>\n",
       "      <td>A3DG93E8TXMKZF</td>\n",
       "      <td>B001KOWH0G</td>\n",
       "      <td>{'Format:': ' MP3 Music'}</td>\n",
       "      <td>JohnAroundTheCornerReviews</td>\n",
       "      <td>This is NOT a piece of music.\\n\\nIt is only us...</td>\n",
       "      <td>All this is is a single tone, DO NOT DOWNLOAD.</td>\n",
       "      <td>1397520000</td>\n",
       "      <td>NaN</td>\n",
       "    </tr>\n",
       "    <tr>\n",
       "      <th>56569</th>\n",
       "      <td>1.0</td>\n",
       "      <td>NaN</td>\n",
       "      <td>True</td>\n",
       "      <td>04 15, 2014</td>\n",
       "      <td>A3DG93E8TXMKZF</td>\n",
       "      <td>B001KOWH0G</td>\n",
       "      <td>{'Format:': ' MP3 Music'}</td>\n",
       "      <td>JohnAroundTheCornerReviews</td>\n",
       "      <td>This is NOT a piece of music.\\n\\nIt is only us...</td>\n",
       "      <td>All this is is a single tone, DO NOT DOWNLOAD.</td>\n",
       "      <td>1397520000</td>\n",
       "      <td>NaN</td>\n",
       "    </tr>\n",
       "    <tr>\n",
       "      <th>56570</th>\n",
       "      <td>1.0</td>\n",
       "      <td>NaN</td>\n",
       "      <td>True</td>\n",
       "      <td>04 15, 2014</td>\n",
       "      <td>A3DG93E8TXMKZF</td>\n",
       "      <td>B001KOWH0G</td>\n",
       "      <td>{'Format:': ' MP3 Music'}</td>\n",
       "      <td>JohnAroundTheCornerReviews</td>\n",
       "      <td>This is NOT a piece of music.\\n\\nIt is only us...</td>\n",
       "      <td>All this is is a single tone, DO NOT DOWNLOAD.</td>\n",
       "      <td>1397520000</td>\n",
       "      <td>NaN</td>\n",
       "    </tr>\n",
       "  </tbody>\n",
       "</table>\n",
       "</div>"
      ],
      "text/plain": [
       "       overall vote  verified   reviewTime      reviewerID        asin  \\\n",
       "56566      1.0  NaN      True  04 15, 2014  A3DG93E8TXMKZF  B001KOWH0G   \n",
       "56567      1.0  NaN      True  04 15, 2014  A3DG93E8TXMKZF  B001KOWH0G   \n",
       "56568      1.0  NaN      True  04 15, 2014  A3DG93E8TXMKZF  B001KOWH0G   \n",
       "56569      1.0  NaN      True  04 15, 2014  A3DG93E8TXMKZF  B001KOWH0G   \n",
       "56570      1.0  NaN      True  04 15, 2014  A3DG93E8TXMKZF  B001KOWH0G   \n",
       "\n",
       "                           style                reviewerName  \\\n",
       "56566  {'Format:': ' MP3 Music'}  JohnAroundTheCornerReviews   \n",
       "56567  {'Format:': ' MP3 Music'}  JohnAroundTheCornerReviews   \n",
       "56568  {'Format:': ' MP3 Music'}  JohnAroundTheCornerReviews   \n",
       "56569  {'Format:': ' MP3 Music'}  JohnAroundTheCornerReviews   \n",
       "56570  {'Format:': ' MP3 Music'}  JohnAroundTheCornerReviews   \n",
       "\n",
       "                                              reviewText  \\\n",
       "56566  This is NOT a piece of music.\\n\\nIt is only us...   \n",
       "56567  This is NOT a piece of music.\\n\\nIt is only us...   \n",
       "56568  This is NOT a piece of music.\\n\\nIt is only us...   \n",
       "56569  This is NOT a piece of music.\\n\\nIt is only us...   \n",
       "56570  This is NOT a piece of music.\\n\\nIt is only us...   \n",
       "\n",
       "                                              summary  unixReviewTime image  \n",
       "56566  All this is is a single tone, DO NOT DOWNLOAD.      1397520000   NaN  \n",
       "56567  All this is is a single tone, DO NOT DOWNLOAD.      1397520000   NaN  \n",
       "56568  All this is is a single tone, DO NOT DOWNLOAD.      1397520000   NaN  \n",
       "56569  All this is is a single tone, DO NOT DOWNLOAD.      1397520000   NaN  \n",
       "56570  All this is is a single tone, DO NOT DOWNLOAD.      1397520000   NaN  "
      ]
     },
     "execution_count": 10,
     "metadata": {},
     "output_type": "execute_result"
    }
   ],
   "source": [
    "df[(df.reviewerID == 'A3DG93E8TXMKZF') & (df.asin == 'B001KOWH0G')].head()"
   ]
  },
  {
   "cell_type": "markdown",
   "id": "acc0f27b-0e9a-4e86-93bf-d53ee47dc879",
   "metadata": {},
   "source": [
    "Интересно взглянуть на завиимость рейтинга от времени в общем, если такая существует. Как видно, разброс по времени довольно большой - 20 лет."
   ]
  },
  {
   "cell_type": "code",
   "execution_count": 17,
   "id": "a08025e0-45a6-4d25-aef0-b8310f0fa59d",
   "metadata": {},
   "outputs": [
    {
     "data": {
      "text/plain": [
       "(datetime.date(1998, 7, 9), datetime.date(2018, 9, 26))"
      ]
     },
     "execution_count": 17,
     "metadata": {},
     "output_type": "execute_result"
    }
   ],
   "source": [
    "pd.to_datetime(df.unixReviewTime.min(), unit='s').date(), pd.to_datetime(df.unixReviewTime.max(), unit='s').date()"
   ]
  },
  {
   "cell_type": "code",
   "execution_count": 18,
   "id": "9c1c4252-10bc-46bb-a858-cf8cf183c35a",
   "metadata": {},
   "outputs": [],
   "source": [
    "df['reviewTime'] = df.unixReviewTime.apply(lambda x: pd.to_datetime(x, unit='s').date())\n",
    "df['reviewMonth'] = df.reviewTime.apply(lambda x: (x.year, x.month))"
   ]
  },
  {
   "cell_type": "markdown",
   "id": "87d9e7dc-bec5-4fe0-b20e-98be1e43858b",
   "metadata": {},
   "source": [
    "Сожмем данные по месяцу, чтобы посмотреть зависимость. Очевидно, с течением ремени отзывов становится больше и связано это с развитием интернета. Хотя есть странный спад ближе к 2018 году."
   ]
  },
  {
   "cell_type": "code",
   "execution_count": 80,
   "id": "74430022-aef5-457a-bd5a-9a56757c64fe",
   "metadata": {},
   "outputs": [
    {
     "data": {
      "text/plain": [
       "<AxesSubplot:xlabel='reviewMonth'>"
      ]
     },
     "execution_count": 80,
     "metadata": {},
     "output_type": "execute_result"
    },
    {
     "data": {
      "image/png": "[encoded data removed]",
      "text/plain": [
       "<Figure size 1440x360 with 1 Axes>"
      ]
     },
     "metadata": {
      "needs_background": "light"
     },
     "output_type": "display_data"
    }
   ],
   "source": [
    "df.groupby('reviewMonth').overall.count().plot(figsize=(20, 5))"
   ]
  },
  {
   "cell_type": "markdown",
   "id": "1883ed40-9d86-4aa5-b667-268416f4cce0",
   "metadata": {},
   "source": [
    "При этом с поправкой на количество отзывов нельзя сказать, что со временем рейтинги существенно меняются. Мы видим, что в среднем с 2011 года оценки поднялись, но при этом количество отзывов возросло многократно."
   ]
  },
  {
   "cell_type": "code",
   "execution_count": 87,
   "id": "04f74df6-07d8-4b46-8665-2a82ef12eb30",
   "metadata": {},
   "outputs": [
    {
     "data": {
      "text/plain": [
       "<AxesSubplot:xlabel='reviewMonth'>"
      ]
     },
     "execution_count": 87,
     "metadata": {},
     "output_type": "execute_result"
    },
    {
     "data": {
      "image/png": "[encoded data removed]",
      "text/plain": [
       "<Figure size 1440x360 with 1 Axes>"
      ]
     },
     "metadata": {
      "needs_background": "light"
     },
     "output_type": "display_data"
    }
   ],
   "source": [
    "df.groupby('reviewMonth').overall.mean().plot(figsize=(20, 5))"
   ]
  },
  {
   "cell_type": "markdown",
   "id": "12227cd4-7a53-4879-8a41-04b73b47f33a",
   "metadata": {},
   "source": [
    "## 2. Train test split\n",
    "\n",
    "Сначала удалим дубликаты и редкие отзывы."
   ]
  },
  {
   "cell_type": "code",
   "execution_count": 43,
   "id": "e63e46c6-a3d7-4c70-9033-855c3ec40057",
   "metadata": {},
   "outputs": [],
   "source": [
    "asin_counts = df.asin.value_counts()\n",
    "reviewer_counts = df.reviewerID.value_counts()"
   ]
  },
  {
   "cell_type": "code",
   "execution_count": 47,
   "id": "ed879b43-f512-4d99-858c-e2a43ad76354",
   "metadata": {},
   "outputs": [
    {
     "data": {
      "text/plain": [
       "(143986, 4)"
      ]
     },
     "execution_count": 47,
     "metadata": {},
     "output_type": "execute_result"
    }
   ],
   "source": [
    "data = df[['reviewerID', 'asin', 'overall', 'unixReviewTime']].drop_duplicates(subset=['reviewerID', 'asin'])\n",
    "data = data[\n",
    "    (data.reviewerID.isin(reviewer_counts[reviewer_counts >= 5].index)) &\n",
    "    (data.asin.isin(asin_counts[asin_counts >= 5].index))\n",
    "]\n",
    "data.shape"
   ]
  },
  {
   "cell_type": "markdown",
   "id": "330d45cc-63d1-4ee3-b347-2a81e4dbd45e",
   "metadata": {},
   "source": [
    "Для разделения датасета так же будем учитывать время, если вдруг вкусы пользователей менялись. Код взят из лекции."
   ]
  },
  {
   "cell_type": "code",
   "execution_count": 65,
   "id": "a4e5a0e8-636e-48e6-b880-a9dc1e2c6820",
   "metadata": {},
   "outputs": [],
   "source": [
    "def train_test_split(X, ratio=0.2, user_col='reviewerID', item_col='asin',\n",
    "                     rating_col='overall', time_col='unixReviewTime'):\n",
    "    X.sort_values(by=[time_col], inplace=True)\n",
    "    userIds = X[user_col].unique()\n",
    "    X_train_data = []\n",
    "    X_test_data = []\n",
    "    for userId in tqdm(userIds):\n",
    "        curUser = X[X[user_col] == userId]\n",
    "        idx = int(curUser.shape[0] * (1 - ratio))\n",
    "        X_train_data.append(curUser[[user_col, item_col, rating_col]].iloc[:idx, :].values)\n",
    "        X_test_data.append(curUser[[user_col, item_col, rating_col]].iloc[idx:, :].values)\n",
    "    X_train = pd.DataFrame(np.vstack(X_train_data), columns=[user_col, item_col, rating_col])\n",
    "    X_test = pd.DataFrame(np.vstack(X_test_data), columns=[user_col, item_col, rating_col])\n",
    "    return X_train, X_test"
   ]
  },
  {
   "cell_type": "code",
   "execution_count": 66,
   "id": "364a57f5-0d47-49d2-8f1e-b79fee6e6670",
   "metadata": {},
   "outputs": [
    {
     "data": {
      "application/vnd.jupyter.widget-view+json": {
       "model_id": "5de47fc62700482280141cb94486f468",
       "version_major": 2,
       "version_minor": 0
      },
      "text/plain": [
       "  0%|          | 0/16510 [00:00<?, ?it/s]"
      ]
     },
     "metadata": {},
     "output_type": "display_data"
    }
   ],
   "source": [
    "train, test = train_test_split(data)"
   ]
  },
  {
   "cell_type": "code",
   "execution_count": 118,
   "id": "128e577b-93a3-4f61-a1af-4c8cb4606452",
   "metadata": {},
   "outputs": [],
   "source": [
    "reader = Reader(rating_scale=(1, 5))\n",
    "X_train = Dataset.load_from_df(train, reader)\n",
    "X_train = X_train.build_full_trainset()"
   ]
  },
  {
   "cell_type": "code",
   "execution_count": 156,
   "id": "1241481c-2da2-401d-8c23-93e9cf743598",
   "metadata": {},
   "outputs": [],
   "source": [
    "X_test = test.values.tolist()"
   ]
  },
  {
   "cell_type": "markdown",
   "id": "7c97b5f0-5b35-4512-8cbc-d259fcf516fb",
   "metadata": {
    "tags": []
   },
   "source": [
    "## 3. Models training\n",
    "\n",
    "Обучим несколько моделей и сравним их между собой"
   ]
  },
  {
   "cell_type": "markdown",
   "id": "a07bae67-5b43-471d-ba65-79dc4ee3906a",
   "metadata": {},
   "source": [
    "### 3.1. Custom model\n",
    "\n",
    "Будет возвращать для пользователя среднюю оценку среди всех, которые он поставил"
   ]
  },
  {
   "cell_type": "code",
   "execution_count": 434,
   "id": "242070b0-0828-4b86-9e69-5e3b41e0a9e4",
   "metadata": {},
   "outputs": [],
   "source": [
    "class CustomAlgo(AlgoBase):\n",
    "\n",
    "    def __init__(self):\n",
    "\n",
    "        AlgoBase.__init__(self)\n",
    "    \n",
    "    def fit(self, trainset):\n",
    "        \n",
    "        AlgoBase.fit(self, trainset)\n",
    "\n",
    "    def estimate(self, u, i):\n",
    "\n",
    "        # if self.trainset.knows_user(u):\n",
    "        if u in self.trainset.ur:\n",
    "            return np.mean([x[1] for x in self.trainset.ur[u]])\n",
    "        \n",
    "        return 4.5"
   ]
  },
  {
   "cell_type": "code",
   "execution_count": 435,
   "id": "571bf635-82e5-4949-9551-b5e08c4ac7d0",
   "metadata": {},
   "outputs": [],
   "source": [
    "custom = CustomAlgo()\n",
    "custom.fit(X_train)"
   ]
  },
  {
   "cell_type": "code",
   "execution_count": 436,
   "id": "67985c93-31e5-4572-bcba-01dff935b965",
   "metadata": {},
   "outputs": [
    {
     "name": "stdout",
     "output_type": "stream",
     "text": [
      "RMSE: 0.5935\n"
     ]
    },
    {
     "data": {
      "text/plain": [
       "0.5935484900533535"
      ]
     },
     "execution_count": 436,
     "metadata": {},
     "output_type": "execute_result"
    }
   ],
   "source": [
    "custom_preds = custom.test(X_test)\n",
    "accuracy.rmse(custom_preds)"
   ]
  },
  {
   "cell_type": "markdown",
   "id": "93d6a6c5-8b0b-466e-9968-1cb693d89c45",
   "metadata": {},
   "source": [
    "### 3.2. KNN model\n",
    "\n",
    "Построим item-based модель"
   ]
  },
  {
   "cell_type": "code",
   "execution_count": 213,
   "id": "ab66661f-9719-4a96-a621-8cc1815c40cf",
   "metadata": {},
   "outputs": [
    {
     "name": "stdout",
     "output_type": "stream",
     "text": [
      "Computing the msd similarity matrix...\n",
      "Done computing similarity matrix.\n",
      "CPU times: user 1.44 s, sys: 879 ms, total: 2.32 s\n",
      "Wall time: 2.31 s\n"
     ]
    },
    {
     "data": {
      "text/plain": [
       "<surprise.prediction_algorithms.knns.KNNBasic at 0x1398aa650>"
      ]
     },
     "execution_count": 213,
     "metadata": {},
     "output_type": "execute_result"
    }
   ],
   "source": [
    "%%time\n",
    "knn = KNNBasic(sim_options={\"user_based\": False})\n",
    "knn.fit(X_train)"
   ]
  },
  {
   "cell_type": "code",
   "execution_count": 214,
   "id": "7e6a7e6c-ba31-4d3b-819b-e2f4f910b56d",
   "metadata": {},
   "outputs": [
    {
     "name": "stdout",
     "output_type": "stream",
     "text": [
      "RMSE: 0.6479\n"
     ]
    },
    {
     "data": {
      "text/plain": [
       "0.6478626785901986"
      ]
     },
     "execution_count": 214,
     "metadata": {},
     "output_type": "execute_result"
    }
   ],
   "source": [
    "knn_preds = knn.test(X_test)\n",
    "accuracy.rmse(knn_preds)"
   ]
  },
  {
   "cell_type": "markdown",
   "id": "79465b24-1899-4909-b0ac-2cab644e1aef",
   "metadata": {},
   "source": [
    "Интересно, что user_based модель показывала результаты гораздо хуже. Скорее всего, это связано с низкой вариативностью оценок в общем."
   ]
  },
  {
   "cell_type": "markdown",
   "id": "f99a2398-7f66-4cbb-80df-5446802d6118",
   "metadata": {},
   "source": [
    "### 3.3. SVD"
   ]
  },
  {
   "cell_type": "code",
   "execution_count": 393,
   "id": "446d8fe5-26ff-418d-898b-106e8db8cb6f",
   "metadata": {},
   "outputs": [
    {
     "name": "stdout",
     "output_type": "stream",
     "text": [
      "CPU times: user 1.77 s, sys: 5.97 ms, total: 1.77 s\n",
      "Wall time: 1.77 s\n"
     ]
    },
    {
     "data": {
      "text/plain": [
       "<surprise.prediction_algorithms.matrix_factorization.SVD at 0x13e2a1630>"
      ]
     },
     "execution_count": 393,
     "metadata": {},
     "output_type": "execute_result"
    }
   ],
   "source": [
    "%%time\n",
    "svd = SVD(n_factors=50, n_epochs=50, reg_all=0.05)\n",
    "svd.fit(X_train)"
   ]
  },
  {
   "cell_type": "code",
   "execution_count": 394,
   "id": "6d6f6b70-4726-4875-ab80-4463197a8c96",
   "metadata": {},
   "outputs": [
    {
     "name": "stdout",
     "output_type": "stream",
     "text": [
      "RMSE: 0.5798\n"
     ]
    },
    {
     "data": {
      "text/plain": [
       "0.579831866285516"
      ]
     },
     "execution_count": 394,
     "metadata": {},
     "output_type": "execute_result"
    }
   ],
   "source": [
    "svd_preds = svd.test(X_test)\n",
    "accuracy.rmse(svd_preds)"
   ]
  },
  {
   "cell_type": "markdown",
   "id": "5ae40003-ff5b-416d-8568-8e8bfcc52fa2",
   "metadata": {},
   "source": [
    "Лучшая модель из трех"
   ]
  },
  {
   "cell_type": "markdown",
   "id": "a1b48374-b4b0-4ab6-96a4-3c80df8da725",
   "metadata": {},
   "source": [
    "## 4. RecSys\n",
    "\n",
    "Домашнее задание - построить рекомендательную систему, а не просто научиться предсказывать оценки.\n",
    "Для начала стоит проверить, насколько вообще модель выдет похожие айтемы. К сожалению, мне не удалось найти какие-либо метаданные по id айтемов, поэтому можно косвенно опираться только на текст отзыва.\n",
    "\n",
    "Например, первый отзыв в данных был посвящен, очевидно, группе Slayer. Лего будет оценить ближайшие айтемы - они должны быть посвящены так же металлу, желательно треш-металлу."
   ]
  },
  {
   "cell_type": "code",
   "execution_count": 254,
   "id": "a3ac80d4-f861-4714-a2a0-44c5abab233e",
   "metadata": {},
   "outputs": [
    {
     "data": {
      "text/plain": [
       "reviewerID    A2TYZ821XXK2YZ\n",
       "asin              3426958910\n",
       "summary        Slayer Rules!\n",
       "Name: 0, dtype: object"
      ]
     },
     "execution_count": 254,
     "metadata": {},
     "output_type": "execute_result"
    }
   ],
   "source": [
    "df.loc[0, ['reviewerID', 'asin', 'summary']]"
   ]
  },
  {
   "cell_type": "code",
   "execution_count": 243,
   "id": "7f713eb6-26e7-495e-bfb0-dc432d45ac85",
   "metadata": {},
   "outputs": [
    {
     "data": {
      "text/plain": [
       "2160"
      ]
     },
     "execution_count": 243,
     "metadata": {},
     "output_type": "execute_result"
    }
   ],
   "source": [
    "X_train.to_inner_iid(\"3426958910\")"
   ]
  },
  {
   "cell_type": "markdown",
   "id": "bbfbb51f-e960-4eb2-a203-ad00c2397bd4",
   "metadata": {},
   "source": [
    "Для начала посмотрим, что выдает простой алгоритм knn"
   ]
  },
  {
   "cell_type": "code",
   "execution_count": 223,
   "id": "ce79af74-c472-44f5-a302-8ff419d8fa8f",
   "metadata": {},
   "outputs": [],
   "source": [
    "sims = [knn.trainset.to_raw_iid(x) for x in knn.get_neighbors(2160, 5)]"
   ]
  },
  {
   "cell_type": "code",
   "execution_count": 224,
   "id": "d42cea80-23a5-4c00-aca6-deb3c3da39e2",
   "metadata": {},
   "outputs": [
    {
     "name": "stdout",
     "output_type": "stream",
     "text": [
      "['Insane album. Possibly their heaviest and their best.'\n",
      " '\"Kill The Flaw\" is great!' 'First Review, And A Positive One At That'\n",
      " \"It's better than pop music\" 'Support 7D']\n",
      "['The Hellion!' 'good album' 'Five Stars' 'great album cover'\n",
      " 'Classic Vengence']\n",
      "['top of the line JH'\n",
      " 'Mining the depths of \"experience Hendrix\" with only a few nuggets to show...but good for a short live album.'\n",
      " 'And here, after a mere 45 yearsan erstwhile neglected star performance'\n",
      " 'BEST FOR YOUR DOLLAR!!' 'There was nothing like him before or since']\n",
      "['Four-and-a-Half Stars' 'A virtual \"best of Down\" compilation' 'MUST OWN'\n",
      " \"Great live album, until Phil's voice goes downhill\" 'Five Stars']\n",
      "['Megadeth, Rattling Heads Again' 'Four Stars' 'They still got it' '666'\n",
      " 'Good return!']\n"
     ]
    }
   ],
   "source": [
    "for asin in sims:\n",
    "    print(df[df.asin == asin].summary.unique()[:5])"
   ]
  },
  {
   "cell_type": "markdown",
   "id": "6b3b8698-9d07-416f-bc08-787b13ab6893",
   "metadata": {},
   "source": [
    "Судя по всему близко, явно альбомы тяжелой музыки. Смущает только Джимми Хендрикс И некий Фил (Коллинз?).\n",
    "\n",
    "Посмотрим, что выдаст SVD. Для этого нужно построить матрицу близости, и , очевидно, на больших данных поиск ближайших айтемов должен выглядеть иначе."
   ]
  },
  {
   "cell_type": "code",
   "execution_count": 412,
   "id": "d9289fca-20ae-4afb-b739-df04139a7cf8",
   "metadata": {},
   "outputs": [],
   "source": [
    "svd.sim_options = {\"user_based\": False}\n",
    "svd_matrix = svd.compute_similarities()"
   ]
  },
  {
   "cell_type": "code",
   "execution_count": 413,
   "id": "df5e6bcb-77ab-4fb3-bf14-da5c82adae86",
   "metadata": {},
   "outputs": [
    {
     "data": {
      "text/plain": [
       "(11341, 11341)"
      ]
     },
     "execution_count": 413,
     "metadata": {},
     "output_type": "execute_result"
    }
   ],
   "source": [
    "svd_matrix.shape"
   ]
  },
  {
   "cell_type": "code",
   "execution_count": 365,
   "id": "0ba4789c-4757-49de-ab5f-35492761ee95",
   "metadata": {},
   "outputs": [],
   "source": [
    "sims = [svd.trainset.to_raw_iid(x) for x in np.argsort(svd_matrix[2160])[::-1][:5]]"
   ]
  },
  {
   "cell_type": "code",
   "execution_count": 366,
   "id": "061798d1-d952-49df-94b2-bf1d2f72071b",
   "metadata": {},
   "outputs": [
    {
     "name": "stdout",
     "output_type": "stream",
     "text": [
      "['The Hellion!' 'good album' 'Five Stars' 'great album cover'\n",
      " 'Classic Vengence']\n",
      "['Papa III' 'Nameless Ghoul' 'Five Stars'\n",
      " 'Just the right amount of everything' 'Best one yet!']\n",
      "['Perfextion' 'Fantstic as always' 'About Time!! :)' 'Five Stars'\n",
      " 'Four Stars']\n",
      "['Cool' 'Thrash Returns' 'Five Stars' 'Three Stars'\n",
      " 'Favorite of the Three Released (thus far)']\n",
      "['Five Stars' 'awesome album, the only track that is missing from ...'\n",
      " 'Cool Collection of hits....' 'Fair to midding' 'Four Stars']\n"
     ]
    }
   ],
   "source": [
    "for asin in sims:\n",
    "    print(df[df.asin == asin].summary.unique()[:5])"
   ]
  },
  {
   "cell_type": "markdown",
   "id": "9a8e18fb-0513-4966-aed5-56202ff72221",
   "metadata": {},
   "source": [
    "Треш и хэви-метал присутствует, значит модель работает.\n",
    "\n",
    "Рексистема же будет работать следующим образом - для заданного пользователя предсказывать рейтинг для всех возможных айтемов, фильтровать те, что он уже оценил, и выдавать айтемы с самой высокой оценкой."
   ]
  },
  {
   "cell_type": "code",
   "execution_count": 439,
   "id": "6353665c-2971-4c52-b275-bb30671b04eb",
   "metadata": {},
   "outputs": [],
   "source": [
    "def get_items(user, top_n=5):\n",
    "    \n",
    "    candidates = []\n",
    "    \n",
    "    uid = svd.trainset.to_inner_uid(user)\n",
    "    reviewed = [x[0] for x in svd.trainset.ur[uid]]\n",
    "    for iid in svd.trainset.all_items():\n",
    "        if iid in reviewed:\n",
    "            continue\n",
    "        item = svd.trainset.to_raw_iid(iid)\n",
    "        # pred = svd.predict(user, item).est\n",
    "        pred = svd.estimate(uid, iid)\n",
    "        candidates.append([pred, item])\n",
    "        \n",
    "    return sorted(candidates, reverse=True)[:top_n]"
   ]
  },
  {
   "cell_type": "markdown",
   "id": "e359ace2-a38b-4c2a-8efa-9d97fea529d3",
   "metadata": {},
   "source": [
    "Рекомендуем айтемы для любителя Slayer"
   ]
  },
  {
   "cell_type": "code",
   "execution_count": 440,
   "id": "b418de2e-96b2-4b98-bc03-484fc2bcdc51",
   "metadata": {},
   "outputs": [
    {
     "data": {
      "text/plain": [
       "[[5.3673169481087735, 'B00EWS7JW8'],\n",
       " [5.3571868355611105, 'B00LY5GOZU'],\n",
       " [5.3405839889802476, 'B001BZF788'],\n",
       " [5.317536046136974, 'B000S55TTY'],\n",
       " [5.310077718913262, 'B00K9A8UQW']]"
      ]
     },
     "execution_count": 440,
     "metadata": {},
     "output_type": "execute_result"
    }
   ],
   "source": [
    "preds = get_items(\"A2TYZ821XXK2YZ\")\n",
    "preds"
   ]
  },
  {
   "cell_type": "code",
   "execution_count": 441,
   "id": "69a369ed-a45a-4f14-a458-21314294bede",
   "metadata": {},
   "outputs": [
    {
     "name": "stdout",
     "output_type": "stream",
     "text": [
      "['Ocean' 'Excellent'\n",
      " 'Exactly what I wanted to add to my inspirational music playlist'\n",
      " 'great lyrics.' 'Five Stars']\n",
      "[\"the bus came by and i got on that's when it all begain\"\n",
      " 'Fine Wine In Wichita' 'already diggin it...'\n",
      " 'Beat It On Down The Line To Wichita'\n",
      " '\"Another Excellent DEAD Show From \\'72 Already SOLD OUT......!\"']\n",
      "['Five Stars' 'AMAZING GRACE IT IS!!!'\n",
      " 'Truly, Truly Amazing Sweet Heaven Above' 'The Essence Of Gospel Music'\n",
      " 'The Gospel According to Aretha']\n",
      "['Awesome !!!!' \"Come on it's Joe Cocker......\" 'Good price!' 'Five Stars'\n",
      " 'Up Where He Belonged']\n",
      "['Five Stars' 'this is a very nice piece by Mali'\n",
      " 'The Gospel Free And True...' 'God is in control, listen up.'\n",
      " 'Awesome lyrics the author spends time in the present of ...']\n"
     ]
    }
   ],
   "source": [
    "for _, asin in preds:\n",
    "    # print(df[df.asin == asin].reviewText.unique()[:3])\n",
    "    print(df[df.asin == asin].summary.unique()[:5])"
   ]
  },
  {
   "cell_type": "markdown",
   "id": "2137bec2-e387-4c99-be08-387ab0f34eb7",
   "metadata": {},
   "source": [
    "Не похоже на хорошие рекомендации, христианская музыка, Джо Кокер. Попробуем улучшить их, добавив метрику близости кандидата к айтемам, которые пользователь уже оценил."
   ]
  },
  {
   "cell_type": "code",
   "execution_count": 460,
   "id": "fa55458b-3cc8-40c1-af37-79563b90185a",
   "metadata": {},
   "outputs": [],
   "source": [
    "def get_items(user, top_n=5):\n",
    "    \n",
    "    candidates = []\n",
    "    \n",
    "    uid = svd.trainset.to_inner_uid(user)\n",
    "    reviewed = [x[0] for x in svd.trainset.ur[uid]]\n",
    "    for iid in svd.trainset.all_items():\n",
    "        if iid in reviewed:\n",
    "            continue\n",
    "        item = svd.trainset.to_raw_iid(iid)\n",
    "        # pred = svd.predict(user, item).est\n",
    "        pred = svd.estimate(uid, iid)\n",
    "        similarity = np.mean(svd_matrix[reviewed, iid])\n",
    "        candidates.append([pred * similarity, item])\n",
    "        \n",
    "    return sorted(candidates, reverse=True)[:top_n]"
   ]
  },
  {
   "cell_type": "code",
   "execution_count": 461,
   "id": "343bdfdb-f165-41ff-9234-0009c4975f34",
   "metadata": {},
   "outputs": [
    {
     "data": {
      "text/plain": [
       "[[2.5005420273919867, 'B00YTGC2XY'],\n",
       " [2.4153098037443677, 'B0194FAQQY'],\n",
       " [2.3917830855753492, 'B01CH5GKJU'],\n",
       " [2.135089739039685, 'B00YI4B79W'],\n",
       " [2.1307573344999478, 'B01D41AW7M']]"
      ]
     },
     "execution_count": 461,
     "metadata": {},
     "output_type": "execute_result"
    }
   ],
   "source": [
    "preds = get_items(\"A2TYZ821XXK2YZ\")\n",
    "preds"
   ]
  },
  {
   "cell_type": "code",
   "execution_count": 462,
   "id": "7329e472-52d0-4dea-a9c2-a46e0473b1ad",
   "metadata": {},
   "outputs": [
    {
     "name": "stdout",
     "output_type": "stream",
     "text": [
      "['Great band. Refreshing. Badass.' 'Five Stars' 'Good Purchase.' 'RSR'\n",
      " 'Four Stars']\n",
      "['\"Kentucky (Deluxe Edition)\" is great!'\n",
      " 'Killer album. Not a weak song on it.'\n",
      " 'A good solid album. I really like it.' 'Five Stars' 'Black Stone Cherry']\n",
      "['Five Stars' \"Avatar's Best Album So Far\" 'good album' 'Birds'\n",
      " 'Hail the ? Feathers and Flesh']\n",
      "['Papa III' 'Nameless Ghoul' 'Five Stars'\n",
      " 'Just the right amount of everything' 'Best one yet!']\n",
      "['The Interest Is Still There' 'Five Stars' 'Thrice To See You Again'\n",
      " 'The Evolving Sound of Thrice' 'To Be Great Is To Be Awesome']\n"
     ]
    }
   ],
   "source": [
    "for _, asin in preds:\n",
    "    # print(df[df.asin == asin].reviewText.unique()[:3])\n",
    "    print(df[df.asin == asin].summary.unique()[:5])"
   ]
  },
  {
   "cell_type": "markdown",
   "id": "f394f8db-f4f6-4a37-a637-f1287166d775",
   "metadata": {},
   "source": [
    "Гораздо лучше, в рекомендациях явно появился метал."
   ]
  },
  {
   "cell_type": "code",
   "execution_count": null,
   "id": "024e2d8e-016e-47b4-9813-c86991eb2446",
   "metadata": {},
   "outputs": [],
   "source": []
  }
 ],
 "metadata": {
  "kernelspec": {
   "display_name": "Python 3 (ipykernel)",
   "language": "python",
   "name": "python3"
  },
  "language_info": {
   "codemirror_mode": {
    "name": "ipython",
    "version": 3
   },
   "file_extension": ".py",
   "mimetype": "text/x-python",
   "name": "python",
   "nbconvert_exporter": "python",
   "pygments_lexer": "ipython3",
   "version": "3.10.4"
  }
 },
 "nbformat": 4,
 "nbformat_minor": 5
}
